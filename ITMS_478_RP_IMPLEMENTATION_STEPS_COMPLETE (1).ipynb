{
  "nbformat": 4,
  "nbformat_minor": 0,
  "metadata": {
    "colab": {
      "provenance": []
    },
    "kernelspec": {
      "name": "python3",
      "display_name": "Python 3"
    },
    "language_info": {
      "name": "python"
    }
  },
  "cells": [
    {
      "cell_type": "code",
      "source": [
        "# This installs the Kaggle API tool\n",
        "!pip install kaggle\n",
        "\n",
        "# 2. Upload kaggle.json:\n",
        "from google.colab import files\n",
        "files.upload()\n",
        "\n",
        "# 3. Create the necessary directory for the token\n",
        "!mkdir -p ~/.kaggle\n",
        "!mv kaggle.json ~/.kaggle/\n",
        "!chmod 600 ~/.kaggle/kaggle.json\n",
        "print(\"Kaggle credentials configured.\")"
      ],
      "metadata": {
        "colab": {
          "base_uri": "https://localhost:8080/",
          "height": 351
        },
        "id": "lFbUhX-5XhCb",
        "outputId": "b382a45e-7333-4f2b-d5e5-02f442c26a9f"
      },
      "execution_count": null,
      "outputs": [
        {
          "output_type": "stream",
          "name": "stdout",
          "text": [
            "Requirement already satisfied: kaggle in /usr/local/lib/python3.12/dist-packages (1.7.4.5)\n",
            "Requirement already satisfied: bleach in /usr/local/lib/python3.12/dist-packages (from kaggle) (6.2.0)\n",
            "Requirement already satisfied: certifi>=14.05.14 in /usr/local/lib/python3.12/dist-packages (from kaggle) (2025.10.5)\n",
            "Requirement already satisfied: charset-normalizer in /usr/local/lib/python3.12/dist-packages (from kaggle) (3.4.3)\n",
            "Requirement already satisfied: idna in /usr/local/lib/python3.12/dist-packages (from kaggle) (3.10)\n",
            "Requirement already satisfied: protobuf in /usr/local/lib/python3.12/dist-packages (from kaggle) (5.29.5)\n",
            "Requirement already satisfied: python-dateutil>=2.5.3 in /usr/local/lib/python3.12/dist-packages (from kaggle) (2.9.0.post0)\n",
            "Requirement already satisfied: python-slugify in /usr/local/lib/python3.12/dist-packages (from kaggle) (8.0.4)\n",
            "Requirement already satisfied: requests in /usr/local/lib/python3.12/dist-packages (from kaggle) (2.32.4)\n",
            "Requirement already satisfied: setuptools>=21.0.0 in /usr/local/lib/python3.12/dist-packages (from kaggle) (75.2.0)\n",
            "Requirement already satisfied: six>=1.10 in /usr/local/lib/python3.12/dist-packages (from kaggle) (1.17.0)\n",
            "Requirement already satisfied: text-unidecode in /usr/local/lib/python3.12/dist-packages (from kaggle) (1.3)\n",
            "Requirement already satisfied: tqdm in /usr/local/lib/python3.12/dist-packages (from kaggle) (4.67.1)\n",
            "Requirement already satisfied: urllib3>=1.15.1 in /usr/local/lib/python3.12/dist-packages (from kaggle) (2.5.0)\n",
            "Requirement already satisfied: webencodings in /usr/local/lib/python3.12/dist-packages (from kaggle) (0.5.1)\n"
          ]
        },
        {
          "output_type": "display_data",
          "data": {
            "text/plain": [
              "<IPython.core.display.HTML object>"
            ],
            "text/html": [
              "\n",
              "     <input type=\"file\" id=\"files-3e892310-b72e-476d-becd-e04b222052f0\" name=\"files[]\" multiple disabled\n",
              "        style=\"border:none\" />\n",
              "     <output id=\"result-3e892310-b72e-476d-becd-e04b222052f0\">\n",
              "      Upload widget is only available when the cell has been executed in the\n",
              "      current browser session. Please rerun this cell to enable.\n",
              "      </output>\n",
              "      <script>// Copyright 2017 Google LLC\n",
              "//\n",
              "// Licensed under the Apache License, Version 2.0 (the \"License\");\n",
              "// you may not use this file except in compliance with the License.\n",
              "// You may obtain a copy of the License at\n",
              "//\n",
              "//      http://www.apache.org/licenses/LICENSE-2.0\n",
              "//\n",
              "// Unless required by applicable law or agreed to in writing, software\n",
              "// distributed under the License is distributed on an \"AS IS\" BASIS,\n",
              "// WITHOUT WARRANTIES OR CONDITIONS OF ANY KIND, either express or implied.\n",
              "// See the License for the specific language governing permissions and\n",
              "// limitations under the License.\n",
              "\n",
              "/**\n",
              " * @fileoverview Helpers for google.colab Python module.\n",
              " */\n",
              "(function(scope) {\n",
              "function span(text, styleAttributes = {}) {\n",
              "  const element = document.createElement('span');\n",
              "  element.textContent = text;\n",
              "  for (const key of Object.keys(styleAttributes)) {\n",
              "    element.style[key] = styleAttributes[key];\n",
              "  }\n",
              "  return element;\n",
              "}\n",
              "\n",
              "// Max number of bytes which will be uploaded at a time.\n",
              "const MAX_PAYLOAD_SIZE = 100 * 1024;\n",
              "\n",
              "function _uploadFiles(inputId, outputId) {\n",
              "  const steps = uploadFilesStep(inputId, outputId);\n",
              "  const outputElement = document.getElementById(outputId);\n",
              "  // Cache steps on the outputElement to make it available for the next call\n",
              "  // to uploadFilesContinue from Python.\n",
              "  outputElement.steps = steps;\n",
              "\n",
              "  return _uploadFilesContinue(outputId);\n",
              "}\n",
              "\n",
              "// This is roughly an async generator (not supported in the browser yet),\n",
              "// where there are multiple asynchronous steps and the Python side is going\n",
              "// to poll for completion of each step.\n",
              "// This uses a Promise to block the python side on completion of each step,\n",
              "// then passes the result of the previous step as the input to the next step.\n",
              "function _uploadFilesContinue(outputId) {\n",
              "  const outputElement = document.getElementById(outputId);\n",
              "  const steps = outputElement.steps;\n",
              "\n",
              "  const next = steps.next(outputElement.lastPromiseValue);\n",
              "  return Promise.resolve(next.value.promise).then((value) => {\n",
              "    // Cache the last promise value to make it available to the next\n",
              "    // step of the generator.\n",
              "    outputElement.lastPromiseValue = value;\n",
              "    return next.value.response;\n",
              "  });\n",
              "}\n",
              "\n",
              "/**\n",
              " * Generator function which is called between each async step of the upload\n",
              " * process.\n",
              " * @param {string} inputId Element ID of the input file picker element.\n",
              " * @param {string} outputId Element ID of the output display.\n",
              " * @return {!Iterable<!Object>} Iterable of next steps.\n",
              " */\n",
              "function* uploadFilesStep(inputId, outputId) {\n",
              "  const inputElement = document.getElementById(inputId);\n",
              "  inputElement.disabled = false;\n",
              "\n",
              "  const outputElement = document.getElementById(outputId);\n",
              "  outputElement.innerHTML = '';\n",
              "\n",
              "  const pickedPromise = new Promise((resolve) => {\n",
              "    inputElement.addEventListener('change', (e) => {\n",
              "      resolve(e.target.files);\n",
              "    });\n",
              "  });\n",
              "\n",
              "  const cancel = document.createElement('button');\n",
              "  inputElement.parentElement.appendChild(cancel);\n",
              "  cancel.textContent = 'Cancel upload';\n",
              "  const cancelPromise = new Promise((resolve) => {\n",
              "    cancel.onclick = () => {\n",
              "      resolve(null);\n",
              "    };\n",
              "  });\n",
              "\n",
              "  // Wait for the user to pick the files.\n",
              "  const files = yield {\n",
              "    promise: Promise.race([pickedPromise, cancelPromise]),\n",
              "    response: {\n",
              "      action: 'starting',\n",
              "    }\n",
              "  };\n",
              "\n",
              "  cancel.remove();\n",
              "\n",
              "  // Disable the input element since further picks are not allowed.\n",
              "  inputElement.disabled = true;\n",
              "\n",
              "  if (!files) {\n",
              "    return {\n",
              "      response: {\n",
              "        action: 'complete',\n",
              "      }\n",
              "    };\n",
              "  }\n",
              "\n",
              "  for (const file of files) {\n",
              "    const li = document.createElement('li');\n",
              "    li.append(span(file.name, {fontWeight: 'bold'}));\n",
              "    li.append(span(\n",
              "        `(${file.type || 'n/a'}) - ${file.size} bytes, ` +\n",
              "        `last modified: ${\n",
              "            file.lastModifiedDate ? file.lastModifiedDate.toLocaleDateString() :\n",
              "                                    'n/a'} - `));\n",
              "    const percent = span('0% done');\n",
              "    li.appendChild(percent);\n",
              "\n",
              "    outputElement.appendChild(li);\n",
              "\n",
              "    const fileDataPromise = new Promise((resolve) => {\n",
              "      const reader = new FileReader();\n",
              "      reader.onload = (e) => {\n",
              "        resolve(e.target.result);\n",
              "      };\n",
              "      reader.readAsArrayBuffer(file);\n",
              "    });\n",
              "    // Wait for the data to be ready.\n",
              "    let fileData = yield {\n",
              "      promise: fileDataPromise,\n",
              "      response: {\n",
              "        action: 'continue',\n",
              "      }\n",
              "    };\n",
              "\n",
              "    // Use a chunked sending to avoid message size limits. See b/62115660.\n",
              "    let position = 0;\n",
              "    do {\n",
              "      const length = Math.min(fileData.byteLength - position, MAX_PAYLOAD_SIZE);\n",
              "      const chunk = new Uint8Array(fileData, position, length);\n",
              "      position += length;\n",
              "\n",
              "      const base64 = btoa(String.fromCharCode.apply(null, chunk));\n",
              "      yield {\n",
              "        response: {\n",
              "          action: 'append',\n",
              "          file: file.name,\n",
              "          data: base64,\n",
              "        },\n",
              "      };\n",
              "\n",
              "      let percentDone = fileData.byteLength === 0 ?\n",
              "          100 :\n",
              "          Math.round((position / fileData.byteLength) * 100);\n",
              "      percent.textContent = `${percentDone}% done`;\n",
              "\n",
              "    } while (position < fileData.byteLength);\n",
              "  }\n",
              "\n",
              "  // All done.\n",
              "  yield {\n",
              "    response: {\n",
              "      action: 'complete',\n",
              "    }\n",
              "  };\n",
              "}\n",
              "\n",
              "scope.google = scope.google || {};\n",
              "scope.google.colab = scope.google.colab || {};\n",
              "scope.google.colab._files = {\n",
              "  _uploadFiles,\n",
              "  _uploadFilesContinue,\n",
              "};\n",
              "})(self);\n",
              "</script> "
            ]
          },
          "metadata": {}
        },
        {
          "output_type": "stream",
          "name": "stdout",
          "text": [
            "Saving kaggle.json to kaggle (1).json\n",
            "Kaggle credentials configured.\n"
          ]
        }
      ]
    },
    {
      "cell_type": "code",
      "source": [
        "# Re-download UNSW-NB15\n",
        "print(\"--- Restoring UNSW-NB15... ---\")\n",
        "# This command was previously confirmed to work\n",
        "!kaggle datasets download -d mrwellsdavid/unsw-nb15\n",
        "\n",
        "# Unzip the downloaded file\n",
        "print(\"--- Unzipping files ---\")\n",
        "!unzip -o unsw-nb15.zip\n",
        "!rm unsw-nb15.zip # Clean up the zip file\n",
        "print(\"UNSW-NB15 restored.\")"
      ],
      "metadata": {
        "colab": {
          "base_uri": "https://localhost:8080/"
        },
        "id": "nOSU6433t2ag",
        "outputId": "f209a715-9d34-4f4d-abcd-2c2c15febb5f"
      },
      "execution_count": null,
      "outputs": [
        {
          "output_type": "stream",
          "name": "stdout",
          "text": [
            "--- Restoring UNSW-NB15... ---\n",
            "Traceback (most recent call last):\n",
            "  File \"/usr/local/bin/kaggle\", line 10, in <module>\n",
            "    sys.exit(main())\n",
            "             ^^^^^^\n",
            "  File \"/usr/local/lib/python3.12/dist-packages/kaggle/cli.py\", line 68, in main\n",
            "    out = args.func(**command_args)\n",
            "          ^^^^^^^^^^^^^^^^^^^^^^^^^\n",
            "  File \"/usr/local/lib/python3.12/dist-packages/kaggle/api/kaggle_api_extended.py\", line 1741, in dataset_download_cli\n",
            "    with self.build_kaggle_client() as kaggle:\n",
            "         ^^^^^^^^^^^^^^^^^^^^^^^^^^\n",
            "  File \"/usr/local/lib/python3.12/dist-packages/kaggle/api/kaggle_api_extended.py\", line 688, in build_kaggle_client\n",
            "    username=self.config_values['username'],\n",
            "             ~~~~~~~~~~~~~~~~~~^^^^^^^^^^^^\n",
            "KeyError: 'username'\n",
            "--- Unzipping files ---\n",
            "unzip:  cannot find or open unsw-nb15.zip, unsw-nb15.zip.zip or unsw-nb15.zip.ZIP.\n",
            "rm: cannot remove 'unsw-nb15.zip': No such file or directory\n",
            "UNSW-NB15 restored.\n"
          ]
        }
      ]
    },
    {
      "cell_type": "code",
      "source": [
        "# 1. Re-Upload kaggle.json:\n",
        "from google.colab import files\n",
        "print(\"Please choose and upload your kaggle.json file again.\")\n",
        "files.upload()"
      ],
      "metadata": {
        "colab": {
          "base_uri": "https://localhost:8080/",
          "height": 108
        },
        "id": "4vp71w9tvmv0",
        "outputId": "ece54436-12d6-481f-a967-3cdf80ce85f3"
      },
      "execution_count": null,
      "outputs": [
        {
          "output_type": "stream",
          "name": "stdout",
          "text": [
            "Please choose and upload your kaggle.json file again.\n"
          ]
        },
        {
          "output_type": "display_data",
          "data": {
            "text/plain": [
              "<IPython.core.display.HTML object>"
            ],
            "text/html": [
              "\n",
              "     <input type=\"file\" id=\"files-73de4a9e-c7cb-4832-99da-0763c5090dea\" name=\"files[]\" multiple disabled\n",
              "        style=\"border:none\" />\n",
              "     <output id=\"result-73de4a9e-c7cb-4832-99da-0763c5090dea\">\n",
              "      Upload widget is only available when the cell has been executed in the\n",
              "      current browser session. Please rerun this cell to enable.\n",
              "      </output>\n",
              "      <script>// Copyright 2017 Google LLC\n",
              "//\n",
              "// Licensed under the Apache License, Version 2.0 (the \"License\");\n",
              "// you may not use this file except in compliance with the License.\n",
              "// You may obtain a copy of the License at\n",
              "//\n",
              "//      http://www.apache.org/licenses/LICENSE-2.0\n",
              "//\n",
              "// Unless required by applicable law or agreed to in writing, software\n",
              "// distributed under the License is distributed on an \"AS IS\" BASIS,\n",
              "// WITHOUT WARRANTIES OR CONDITIONS OF ANY KIND, either express or implied.\n",
              "// See the License for the specific language governing permissions and\n",
              "// limitations under the License.\n",
              "\n",
              "/**\n",
              " * @fileoverview Helpers for google.colab Python module.\n",
              " */\n",
              "(function(scope) {\n",
              "function span(text, styleAttributes = {}) {\n",
              "  const element = document.createElement('span');\n",
              "  element.textContent = text;\n",
              "  for (const key of Object.keys(styleAttributes)) {\n",
              "    element.style[key] = styleAttributes[key];\n",
              "  }\n",
              "  return element;\n",
              "}\n",
              "\n",
              "// Max number of bytes which will be uploaded at a time.\n",
              "const MAX_PAYLOAD_SIZE = 100 * 1024;\n",
              "\n",
              "function _uploadFiles(inputId, outputId) {\n",
              "  const steps = uploadFilesStep(inputId, outputId);\n",
              "  const outputElement = document.getElementById(outputId);\n",
              "  // Cache steps on the outputElement to make it available for the next call\n",
              "  // to uploadFilesContinue from Python.\n",
              "  outputElement.steps = steps;\n",
              "\n",
              "  return _uploadFilesContinue(outputId);\n",
              "}\n",
              "\n",
              "// This is roughly an async generator (not supported in the browser yet),\n",
              "// where there are multiple asynchronous steps and the Python side is going\n",
              "// to poll for completion of each step.\n",
              "// This uses a Promise to block the python side on completion of each step,\n",
              "// then passes the result of the previous step as the input to the next step.\n",
              "function _uploadFilesContinue(outputId) {\n",
              "  const outputElement = document.getElementById(outputId);\n",
              "  const steps = outputElement.steps;\n",
              "\n",
              "  const next = steps.next(outputElement.lastPromiseValue);\n",
              "  return Promise.resolve(next.value.promise).then((value) => {\n",
              "    // Cache the last promise value to make it available to the next\n",
              "    // step of the generator.\n",
              "    outputElement.lastPromiseValue = value;\n",
              "    return next.value.response;\n",
              "  });\n",
              "}\n",
              "\n",
              "/**\n",
              " * Generator function which is called between each async step of the upload\n",
              " * process.\n",
              " * @param {string} inputId Element ID of the input file picker element.\n",
              " * @param {string} outputId Element ID of the output display.\n",
              " * @return {!Iterable<!Object>} Iterable of next steps.\n",
              " */\n",
              "function* uploadFilesStep(inputId, outputId) {\n",
              "  const inputElement = document.getElementById(inputId);\n",
              "  inputElement.disabled = false;\n",
              "\n",
              "  const outputElement = document.getElementById(outputId);\n",
              "  outputElement.innerHTML = '';\n",
              "\n",
              "  const pickedPromise = new Promise((resolve) => {\n",
              "    inputElement.addEventListener('change', (e) => {\n",
              "      resolve(e.target.files);\n",
              "    });\n",
              "  });\n",
              "\n",
              "  const cancel = document.createElement('button');\n",
              "  inputElement.parentElement.appendChild(cancel);\n",
              "  cancel.textContent = 'Cancel upload';\n",
              "  const cancelPromise = new Promise((resolve) => {\n",
              "    cancel.onclick = () => {\n",
              "      resolve(null);\n",
              "    };\n",
              "  });\n",
              "\n",
              "  // Wait for the user to pick the files.\n",
              "  const files = yield {\n",
              "    promise: Promise.race([pickedPromise, cancelPromise]),\n",
              "    response: {\n",
              "      action: 'starting',\n",
              "    }\n",
              "  };\n",
              "\n",
              "  cancel.remove();\n",
              "\n",
              "  // Disable the input element since further picks are not allowed.\n",
              "  inputElement.disabled = true;\n",
              "\n",
              "  if (!files) {\n",
              "    return {\n",
              "      response: {\n",
              "        action: 'complete',\n",
              "      }\n",
              "    };\n",
              "  }\n",
              "\n",
              "  for (const file of files) {\n",
              "    const li = document.createElement('li');\n",
              "    li.append(span(file.name, {fontWeight: 'bold'}));\n",
              "    li.append(span(\n",
              "        `(${file.type || 'n/a'}) - ${file.size} bytes, ` +\n",
              "        `last modified: ${\n",
              "            file.lastModifiedDate ? file.lastModifiedDate.toLocaleDateString() :\n",
              "                                    'n/a'} - `));\n",
              "    const percent = span('0% done');\n",
              "    li.appendChild(percent);\n",
              "\n",
              "    outputElement.appendChild(li);\n",
              "\n",
              "    const fileDataPromise = new Promise((resolve) => {\n",
              "      const reader = new FileReader();\n",
              "      reader.onload = (e) => {\n",
              "        resolve(e.target.result);\n",
              "      };\n",
              "      reader.readAsArrayBuffer(file);\n",
              "    });\n",
              "    // Wait for the data to be ready.\n",
              "    let fileData = yield {\n",
              "      promise: fileDataPromise,\n",
              "      response: {\n",
              "        action: 'continue',\n",
              "      }\n",
              "    };\n",
              "\n",
              "    // Use a chunked sending to avoid message size limits. See b/62115660.\n",
              "    let position = 0;\n",
              "    do {\n",
              "      const length = Math.min(fileData.byteLength - position, MAX_PAYLOAD_SIZE);\n",
              "      const chunk = new Uint8Array(fileData, position, length);\n",
              "      position += length;\n",
              "\n",
              "      const base64 = btoa(String.fromCharCode.apply(null, chunk));\n",
              "      yield {\n",
              "        response: {\n",
              "          action: 'append',\n",
              "          file: file.name,\n",
              "          data: base64,\n",
              "        },\n",
              "      };\n",
              "\n",
              "      let percentDone = fileData.byteLength === 0 ?\n",
              "          100 :\n",
              "          Math.round((position / fileData.byteLength) * 100);\n",
              "      percent.textContent = `${percentDone}% done`;\n",
              "\n",
              "    } while (position < fileData.byteLength);\n",
              "  }\n",
              "\n",
              "  // All done.\n",
              "  yield {\n",
              "    response: {\n",
              "      action: 'complete',\n",
              "    }\n",
              "  };\n",
              "}\n",
              "\n",
              "scope.google = scope.google || {};\n",
              "scope.google.colab = scope.google.colab || {};\n",
              "scope.google.colab._files = {\n",
              "  _uploadFiles,\n",
              "  _uploadFilesContinue,\n",
              "};\n",
              "})(self);\n",
              "</script> "
            ]
          },
          "metadata": {}
        },
        {
          "output_type": "stream",
          "name": "stdout",
          "text": [
            "Saving kaggle.json to kaggle.json\n"
          ]
        },
        {
          "output_type": "execute_result",
          "data": {
            "text/plain": [
              "{'kaggle.json': b'{\"username\":\"fangel1\",\"key\":\"aa9a90925e4aaf851a09ec68e7a14392\"}'}"
            ]
          },
          "metadata": {},
          "execution_count": 6
        }
      ]
    },
    {
      "cell_type": "code",
      "source": [
        "# Use this if the file uploaded as kaggle.json\n",
        "!mkdir -p ~/.kaggle\n",
        "!mv kaggle.json ~/.kaggle/\n",
        "!chmod 600 ~/.kaggle/kaggle.json\n",
        "print(\"Kaggle credentials RECONFIGURED successfully.\")"
      ],
      "metadata": {
        "colab": {
          "base_uri": "https://localhost:8080/"
        },
        "id": "hzMESRvEvpp8",
        "outputId": "e69f473a-060d-4d2b-9a40-8578be1cda8c"
      },
      "execution_count": null,
      "outputs": [
        {
          "output_type": "stream",
          "name": "stdout",
          "text": [
            "Kaggle credentials RECONFIGURED successfully.\n"
          ]
        }
      ]
    },
    {
      "cell_type": "code",
      "source": [
        "# RUN THIS NEXT (Preprocesses df_a: UNSW-NB15)\n",
        "import numpy as np\n",
        "from sklearn.model_selection import train_test_split\n",
        "from sklearn.preprocessing import LabelEncoder, MinMaxScaler\n",
        "\n",
        "# 1. Clean Data\n",
        "df_a.replace([np.inf, -np.inf], np.nan, inplace=True)\n",
        "df_a.dropna(inplace=True)\n",
        "df_a.drop_duplicates(inplace=True)\n",
        "print(f\"UNSW-NB15 shape after cleaning: {df_a.shape}\")\n",
        "\n",
        "# 2. Separate Features and Target\n",
        "# Using 'label' for binary classification (Attack or Benign)\n",
        "X_a = df_a.drop(columns=['label', 'attack_cat'])\n",
        "y_a = df_a['label']\n",
        "\n",
        "# 3. Encode Categorical Features\n",
        "categorical_cols_a = X_a.select_dtypes(include=['object']).columns\n",
        "for col in categorical_cols_a:\n",
        "    le = LabelEncoder()\n",
        "    X_a[col] = X_a[col].astype(str).fillna('missing')\n",
        "    X_a[col] = le.fit_transform(X_a[col])\n",
        "\n",
        "# 4. Normalize Data\n",
        "scaler_a = MinMaxScaler()\n",
        "X_a_scaled = scaler_a.fit_transform(X_a)\n",
        "X_a = pd.DataFrame(X_a_scaled, columns=X_a.columns)\n",
        "\n",
        "# 5. Split Data\n",
        "X_a_train, X_a_test, y_a_train, y_a_test = train_test_split(\n",
        "    X_a, y_a, test_size=0.3, random_state=42, stratify=y_a\n",
        ")\n",
        "\n",
        "print(\"-\" * 50)\n",
        "print(\"UNSW-NB15 (Dataset A) Split Complete:\")\n",
        "print(f\"X_a_train shape: {X_a_train.shape}\")\n",
        "print(f\"X_a_test shape: {X_a_test.shape}\")\n",
        "print(\"-\" * 50)"
      ],
      "metadata": {
        "colab": {
          "base_uri": "https://localhost:8080/"
        },
        "id": "qPbmcWvlwXW3",
        "outputId": "bd4afb9f-7dd0-4639-e32f-86e52dcc85c9"
      },
      "execution_count": null,
      "outputs": [
        {
          "output_type": "stream",
          "name": "stdout",
          "text": [
            "UNSW-NB15 shape after cleaning: (82332, 45)\n",
            "--------------------------------------------------\n",
            "UNSW-NB15 (Dataset A) Split Complete:\n",
            "X_a_train shape: (57632, 43)\n",
            "X_a_test shape: (24700, 43)\n",
            "--------------------------------------------------\n"
          ]
        }
      ]
    },
    {
      "cell_type": "code",
      "source": [
        "print(\"--- Downloading KDD Cup 1999 Dataset ---\")\n",
        "!wget -q http://kdd.ics.uci.edu/databases/kddcup99/kddcup.data_10_percent.gz -O kddcup.data_10_percent.gz\n",
        "\n",
        "# Unzip the file\n",
        "!gunzip -f kddcup.data_10_percent.gz\n",
        "print(\"KDD Cup 1999 file restored: kddcup.data_10_percent.\")"
      ],
      "metadata": {
        "colab": {
          "base_uri": "https://localhost:8080/"
        },
        "id": "ndZ8E9cg0Ffv",
        "outputId": "955dae83-02b7-40a0-8ac0-1f3c61d6ef5c"
      },
      "execution_count": null,
      "outputs": [
        {
          "output_type": "stream",
          "name": "stdout",
          "text": [
            "--- Downloading KDD Cup 1999 Dataset ---\n",
            "KDD Cup 1999 file restored: kddcup.data_10_percent.\n"
          ]
        }
      ]
    },
    {
      "cell_type": "code",
      "source": [
        "import pandas as pd\n",
        "import numpy as np\n",
        "from sklearn.model_selection import train_test_split\n",
        "from sklearn.preprocessing import LabelEncoder, MinMaxScaler\n",
        "\n",
        "# Define column names (standard for KDD Cup/NSL-KDD)\n",
        "columns = [\n",
        "    'duration', 'protocol_type', 'service', 'flag', 'src_bytes', 'dst_bytes', 'land', 'wrong_fragment',\n",
        "    'urgent', 'hot', 'num_failed_logins', 'logged_in', 'num_compromised', 'root_shell', 'su_attempted',\n",
        "    'num_root', 'num_file_creations', 'num_shells', 'num_access_files', 'num_outbound_cmds',\n",
        "    'is_host_login', 'is_guest_login', 'count', 'srv_count', 'serror_rate', 'srv_serror_rate',\n",
        "    'rerror_rate', 'srv_rerror_rate', 'same_srv_rate', 'diff_srv_rate', 'srv_diff_host_rate',\n",
        "    'dst_host_count', 'dst_host_srv_count', 'dst_host_same_srv_rate', 'dst_host_diff_srv_rate',\n",
        "    'dst_host_same_src_port_rate', 'dst_host_srv_diff_host_rate', 'dst_host_serror_rate',\n",
        "    'dst_host_srv_serror_rate', 'dst_host_rerror_rate', 'dst_host_srv_rerror_rate',\n",
        "    'attack_type' # KDD Cup 99 only has the attack type, no 'difficulty' column\n",
        "]\n",
        "KDD_FILE = 'kddcup.data_10_percent'\n",
        "\n",
        "# 1. Load data with forced string type\n",
        "df_b = pd.read_csv(KDD_FILE, names=columns, index_col=False, dtype=str, low_memory=False)\n",
        "print(f\"Dataset B (KDD Cup 99) loaded as strings with shape: {df_b.shape}\")\n",
        "\n",
        "# 2. Explicitly coerce numeric columns\n",
        "categorical_cols_b_raw = ['protocol_type', 'service', 'flag', 'attack_type']\n",
        "numeric_cols = [col for col in columns if col not in categorical_cols_b_raw]\n",
        "\n",
        "for col in numeric_cols:\n",
        "    df_b[col] = pd.to_numeric(df_b[col], errors='coerce')\n",
        "\n",
        "# 3. Clean Data and separate features\n",
        "df_b.replace([np.inf, -np.inf], np.nan, inplace=True)\n",
        "df_b.dropna(inplace=True)\n",
        "df_b.drop_duplicates(inplace=True)\n",
        "print(f\"KDD Cup 99 shape after cleaning: {df_b.shape}\")\n",
        "\n",
        "df_b['binary_label'] = df_b['attack_type'].apply(lambda x: 0 if x.strip() == 'normal.' else 1)\n",
        "\n",
        "X_b = df_b.drop(columns=['attack_type', 'binary_label']) # Drop the original label columns\n",
        "y_b = df_b['binary_label']\n",
        "\n",
        "# 4. Encode Categorical Features\n",
        "categorical_cols_b = ['protocol_type', 'service', 'flag']\n",
        "\n",
        "for col in categorical_cols_b:\n",
        "    le = LabelEncoder()\n",
        "    X_b[col] = le.fit_transform(X_b[col])\n",
        "\n",
        "# 5. Normalize Data\n",
        "scaler_b = MinMaxScaler()\n",
        "X_b_scaled = scaler_b.fit_transform(X_b)\n",
        "X_b = pd.DataFrame(X_b_scaled, columns=X_b.columns)\n",
        "\n",
        "# 6. Split Data\n",
        "X_b_train, X_b_test, y_b_train, y_b_test = train_test_split(\n",
        "    X_b, y_b, test_size=0.3, random_state=42, stratify=y_b\n",
        ")\n",
        "\n",
        "print(\"-\" * 50)\n",
        "print(\"KDD Cup 1999 (Dataset B) Split Complete:\")\n",
        "print(f\"X_b_train shape: {X_b_train.shape}\")\n",
        "print(f\"X_b_test shape: {X_b_test.shape}\")\n",
        "print(\"-\" * 50)"
      ],
      "metadata": {
        "colab": {
          "base_uri": "https://localhost:8080/"
        },
        "id": "lFu94k7V0f40",
        "outputId": "58774d82-30b7-48f2-eb12-e3e6ec6d990d"
      },
      "execution_count": null,
      "outputs": [
        {
          "output_type": "stream",
          "name": "stdout",
          "text": [
            "Dataset B (KDD Cup 99) loaded as strings with shape: (494021, 42)\n",
            "KDD Cup 99 shape after cleaning: (145586, 42)\n",
            "--------------------------------------------------\n",
            "KDD Cup 1999 (Dataset B) Split Complete:\n",
            "X_b_train shape: (101910, 41)\n",
            "X_b_test shape: (43676, 41)\n",
            "--------------------------------------------------\n"
          ]
        }
      ]
    },
    {
      "cell_type": "code",
      "source": [
        "from sklearn.ensemble import RandomForestClassifier\n",
        "from sklearn.metrics import accuracy_score, classification_report\n",
        "\n",
        "# --- 1. Train and Evaluate on Dataset A (UNSW-NB15) ---\n",
        "print(\"--- Training Random Forest on Dataset A (UNSW-NB15) ---\")\n",
        "rf_model_a = RandomForestClassifier(n_estimators=100, random_state=42, n_jobs=-1)\n",
        "rf_model_a.fit(X_a_train, y_a_train)\n",
        "y_a_pred_rf = rf_model_a.predict(X_a_test)\n",
        "\n",
        "print(f\"\\nUNSW-NB15 Random Forest Accuracy: {accuracy_score(y_a_test, y_a_pred_rf):.4f}\")\n",
        "print(\"UNSW-NB15 Classification Report:\")\n",
        "print(classification_report(y_a_test, y_a_pred_rf, zero_division=0))\n",
        "\n",
        "# --- 2. Train and Evaluate on Dataset B (KDD Cup 1999) ---\n",
        "print(\"\\n--- Training Random Forest on Dataset B (KDD Cup 1999) ---\")\n",
        "rf_model_b = RandomForestClassifier(n_estimators=100, random_state=42, n_jobs=-1)\n",
        "rf_model_b.fit(X_b_train, y_b_train)\n",
        "y_b_pred_rf = rf_model_b.predict(X_b_test)\n",
        "\n",
        "print(f\"\\nKDD Cup 1999 Random Forest Accuracy: {accuracy_score(y_b_test, y_b_pred_rf):.4f}\")\n",
        "print(\"KDD Cup 1999 Classification Report:\")\n",
        "print(classification_report(y_b_test, y_b_pred_rf, zero_division=0))"
      ],
      "metadata": {
        "colab": {
          "base_uri": "https://localhost:8080/"
        },
        "id": "MIS5TXJx2DSM",
        "outputId": "aa2cb9d1-c63d-4a5e-9518-ca5d80e084fa"
      },
      "execution_count": null,
      "outputs": [
        {
          "output_type": "stream",
          "name": "stdout",
          "text": [
            "--- Training Random Forest on Dataset A (UNSW-NB15) ---\n",
            "\n",
            "UNSW-NB15 Random Forest Accuracy: 0.9984\n",
            "UNSW-NB15 Classification Report:\n",
            "              precision    recall  f1-score   support\n",
            "\n",
            "           0       1.00      1.00      1.00     11100\n",
            "           1       1.00      1.00      1.00     13600\n",
            "\n",
            "    accuracy                           1.00     24700\n",
            "   macro avg       1.00      1.00      1.00     24700\n",
            "weighted avg       1.00      1.00      1.00     24700\n",
            "\n",
            "\n",
            "--- Training Random Forest on Dataset B (KDD Cup 1999) ---\n",
            "\n",
            "KDD Cup 1999 Random Forest Accuracy: 0.9995\n",
            "KDD Cup 1999 Classification Report:\n",
            "              precision    recall  f1-score   support\n",
            "\n",
            "           0       1.00      1.00      1.00     26350\n",
            "           1       1.00      1.00      1.00     17326\n",
            "\n",
            "    accuracy                           1.00     43676\n",
            "   macro avg       1.00      1.00      1.00     43676\n",
            "weighted avg       1.00      1.00      1.00     43676\n",
            "\n"
          ]
        }
      ]
    },
    {
      "cell_type": "code",
      "source": [
        "import tensorflow as tf\n",
        "from tensorflow.keras.models import Sequential\n",
        "from tensorflow.keras.layers import Conv1D, MaxPooling1D, Flatten, Dense\n",
        "import numpy as np\n",
        "\n",
        "# --- Data Reshaping ---\n",
        "# We treat each feature column as a time step with 1 feature.\n",
        "FEATURES = 1\n",
        "\n",
        "# Get TIME_STEPS from the current shape of the dataframes\n",
        "TIME_STEPS_A = X_a_train.shape[1]\n",
        "TIME_STEPS_B = X_b_train.shape[1]\n",
        "\n",
        "# Reshape all four datasets\n",
        "X_a_train_cnn = np.expand_dims(X_a_train, axis=2)\n",
        "X_a_test_cnn = np.expand_dims(X_a_test, axis=2)\n",
        "X_b_train_cnn = np.expand_dims(X_b_train, axis=2)\n",
        "X_b_test_cnn = np.expand_dims(X_b_test, axis=2)\n",
        "\n",
        "\n",
        "def build_cnn_model(input_shape):\n",
        "    \"\"\"Builds a simple 1D CNN model for tabular data.\"\"\"\n",
        "    model = Sequential([\n",
        "        Conv1D(filters=32, kernel_size=2, activation='relu', input_shape=input_shape),\n",
        "        MaxPooling1D(pool_size=2),\n",
        "        Flatten(),\n",
        "        Dense(50, activation='relu'),\n",
        "        Dense(1, activation='sigmoid') # Binary classification output\n",
        "    ])\n",
        "    model.compile(optimizer='adam', loss='binary_crossentropy', metrics=['accuracy'])\n",
        "    return model\n",
        "\n",
        "# --- 1. Train and Evaluate on Dataset A (UNSW-NB15) ---\n",
        "print(\"\\n--- Training CNN on Dataset A (UNSW-NB15) ---\")\n",
        "cnn_model_a = build_cnn_model((TIME_STEPS_A, FEATURES))\n",
        "\n",
        "# Fit the model (verbose=0 minimizes output)\n",
        "cnn_model_a.fit(X_a_train_cnn, y_a_train, epochs=10, batch_size=64, verbose=0)\n",
        "loss_a, accuracy_a_cnn = cnn_model_a.evaluate(X_a_test_cnn, y_a_test, verbose=0)\n",
        "\n",
        "print(f\"\\nUNSW-NB15 CNN Accuracy: {accuracy_a_cnn:.4f}\")\n",
        "\n",
        "# Generate classification report\n",
        "y_a_pred_cnn = (cnn_model_a.predict(X_a_test_cnn) > 0.5).astype(\"int32\")\n",
        "print(\"\\nUNSW-NB15 Classification Report:\")\n",
        "print(classification_report(y_a_test, y_a_pred_cnn, zero_division=0))\n",
        "\n",
        "\n",
        "# --- 2. Train and Evaluate on Dataset B (KDD Cup 1999) ---\n",
        "print(\"\\n--- Training CNN on Dataset B (KDD Cup 1999) ---\")\n",
        "cnn_model_b = build_cnn_model((TIME_STEPS_B, FEATURES))\n",
        "\n",
        "# Fit the model (verbose=0 minimizes output)\n",
        "cnn_model_b.fit(X_b_train_cnn, y_b_train, epochs=10, batch_size=64, verbose=0)\n",
        "loss_b, accuracy_b_cnn = cnn_model_b.evaluate(X_b_test_cnn, y_b_test, verbose=0)\n",
        "\n",
        "print(f\"\\nKDD Cup 1999 CNN Accuracy: {accuracy_b_cnn:.4f}\")\n",
        "\n",
        "# Generate classification report\n",
        "y_b_pred_cnn = (cnn_model_b.predict(X_b_test_cnn) > 0.5).astype(\"int32\")\n",
        "print(\"\\nKDD Cup 1999 Classification Report:\")\n",
        "print(classification_report(y_b_test, y_b_pred_cnn, zero_division=0))"
      ],
      "metadata": {
        "colab": {
          "base_uri": "https://localhost:8080/"
        },
        "id": "2xajtz7Y2naO",
        "outputId": "77f23d6c-75ab-4d4d-d6c1-9d4cc77d13a8"
      },
      "execution_count": null,
      "outputs": [
        {
          "output_type": "stream",
          "name": "stdout",
          "text": [
            "\n",
            "--- Training CNN on Dataset A (UNSW-NB15) ---\n"
          ]
        },
        {
          "output_type": "stream",
          "name": "stderr",
          "text": [
            "/usr/local/lib/python3.12/dist-packages/keras/src/layers/convolutional/base_conv.py:113: UserWarning: Do not pass an `input_shape`/`input_dim` argument to a layer. When using Sequential models, prefer using an `Input(shape)` object as the first layer in the model instead.\n",
            "  super().__init__(activity_regularizer=activity_regularizer, **kwargs)\n"
          ]
        },
        {
          "output_type": "stream",
          "name": "stdout",
          "text": [
            "\n",
            "UNSW-NB15 CNN Accuracy: 0.9855\n",
            "\u001b[1m772/772\u001b[0m \u001b[32m━━━━━━━━━━━━━━━━━━━━\u001b[0m\u001b[37m\u001b[0m \u001b[1m1s\u001b[0m 2ms/step\n",
            "\n",
            "UNSW-NB15 Classification Report:\n",
            "              precision    recall  f1-score   support\n",
            "\n",
            "           0       0.99      0.98      0.98     11100\n",
            "           1       0.98      0.99      0.99     13600\n",
            "\n",
            "    accuracy                           0.99     24700\n",
            "   macro avg       0.99      0.98      0.99     24700\n",
            "weighted avg       0.99      0.99      0.99     24700\n",
            "\n",
            "\n",
            "--- Training CNN on Dataset B (KDD Cup 1999) ---\n"
          ]
        },
        {
          "output_type": "stream",
          "name": "stderr",
          "text": [
            "/usr/local/lib/python3.12/dist-packages/keras/src/layers/convolutional/base_conv.py:113: UserWarning: Do not pass an `input_shape`/`input_dim` argument to a layer. When using Sequential models, prefer using an `Input(shape)` object as the first layer in the model instead.\n",
            "  super().__init__(activity_regularizer=activity_regularizer, **kwargs)\n"
          ]
        },
        {
          "output_type": "stream",
          "name": "stdout",
          "text": [
            "\n",
            "KDD Cup 1999 CNN Accuracy: 0.9973\n",
            "\u001b[1m1365/1365\u001b[0m \u001b[32m━━━━━━━━━━━━━━━━━━━━\u001b[0m\u001b[37m\u001b[0m \u001b[1m3s\u001b[0m 2ms/step\n",
            "\n",
            "KDD Cup 1999 Classification Report:\n",
            "              precision    recall  f1-score   support\n",
            "\n",
            "           0       1.00      1.00      1.00     26350\n",
            "           1       1.00      1.00      1.00     17326\n",
            "\n",
            "    accuracy                           1.00     43676\n",
            "   macro avg       1.00      1.00      1.00     43676\n",
            "weighted avg       1.00      1.00      1.00     43676\n",
            "\n"
          ]
        }
      ]
    },
    {
      "cell_type": "code",
      "source": [
        "from sklearn.model_selection import RandomizedSearchCV\n",
        "from tensorflow.keras.wrappers.scikit_learn import KerasClassifier\n",
        "from scipy.stats import randint as sp_randint\n",
        "from tensorflow.keras.models import Sequential\n",
        "from tensorflow.keras.layers import Conv1D, MaxPooling1D, Flatten, Dense\n",
        "import tensorflow as tf\n",
        "import numpy as np\n",
        "\n",
        "print(\"\\n--- Setting up Hybrid Model (CNN + Optimization Proxy) on Dataset A ---\")\n",
        "\n",
        "\n",
        "TIME_STEPS_A = X_a_train.shape[1]\n",
        "FEATURES = 1\n",
        "\n",
        "\n",
        "def create_tunable_cnn(filters=32, dense_units=50, kernel_size=2, learning_rate=0.001):\n",
        "    \"\"\"Creates a CNN model instance with tunable hyperparameters.\"\"\"\n",
        "    model = Sequential([\n",
        "        Conv1D(filters=filters, kernel_size=kernel_size, activation='relu', input_shape=(TIME_STEPS_A, FEATURES)),\n",
        "        MaxPooling1D(pool_size=2),\n",
        "        Flatten(),\n",
        "        Dense(dense_units, activation='relu'),\n",
        "        Dense(1, activation='sigmoid')\n",
        "    ])\n",
        "    optimizer = tf.keras.optimizers.Adam(learning_rate=learning_rate)\n",
        "    model.compile(optimizer=optimizer, loss='binary_crossentropy', metrics=['accuracy'])\n",
        "    return model\n",
        "\n",
        ".\n",
        "model_wrapper = KerasClassifier(build_fn=create_tunable_cnn, verbose=0)\n",
        "\n",
        "# Define the search space for hyperparameters\n",
        "param_dist = {\n",
        "    'filters': sp_randint(16, 64),\n",
        "    'dense_units': sp_randint(30, 100),\n",
        "    'batch_size': [32, 64, 128],\n",
        "    'epochs': [5, 10],\n",
        "    'learning_rate': [0.01, 0.001] # Reduced range for faster run\n",
        "}\n",
        "\n",
        "# Use Random Search as a proxy for the Metaheuristic Optimization\n",
        "random_search = RandomizedSearchCV(\n",
        "    estimator=model_wrapper,\n",
        "    param_distributions=param_dist,\n",
        "    n_iter=5, # Limited iterations for quick execution\n",
        "    cv=3, # 3-fold cross-validation\n",
        "    verbose=2, # Set to 2 to see iteration progress\n",
        "    random_state=42\n",
        ")\n",
        "\n",
        "\n",
        "print(\"\\nStarting 5-iteration Random Search...\")\n",
        "random_search.fit(X_a_train, y_a_train)\n",
        "\n",
        "print(\"\\n--- Hybrid Model Evaluation (Optimized CNN) ---\")\n",
        "print(\"Best Parameters found:\")\n",
        "print(random_search.best_params_)\n",
        "\n",
        "\n",
        "best_model_wrapper = random_search.best_estimator_\n",
        "loss_opt, accuracy_opt = best_model_wrapper.model.evaluate(X_a_test_cnn, y_a_test, verbose=0)\n",
        "\n",
        "print(f\"\\nOptimized CNN (Hybrid) Accuracy on UNSW-NB15: {accuracy_opt:.4f}\")"
      ],
      "metadata": {
        "colab": {
          "base_uri": "https://localhost:8080/",
          "height": 384
        },
        "id": "XcuDZ69337po",
        "outputId": "47ffb986-2811-4eed-f378-40283a5b9dad"
      },
      "execution_count": null,
      "outputs": [
        {
          "output_type": "error",
          "ename": "ModuleNotFoundError",
          "evalue": "No module named 'tensorflow.keras.wrappers.scikit_learn'",
          "traceback": [
            "\u001b[0;31m---------------------------------------------------------------------------\u001b[0m",
            "\u001b[0;31mModuleNotFoundError\u001b[0m                       Traceback (most recent call last)",
            "\u001b[0;32m/tmp/ipython-input-1257023387.py\u001b[0m in \u001b[0;36m<cell line: 0>\u001b[0;34m()\u001b[0m\n\u001b[1;32m      2\u001b[0m \u001b[0;34m\u001b[0m\u001b[0m\n\u001b[1;32m      3\u001b[0m \u001b[0;32mfrom\u001b[0m \u001b[0msklearn\u001b[0m\u001b[0;34m.\u001b[0m\u001b[0mmodel_selection\u001b[0m \u001b[0;32mimport\u001b[0m \u001b[0mRandomizedSearchCV\u001b[0m\u001b[0;34m\u001b[0m\u001b[0;34m\u001b[0m\u001b[0m\n\u001b[0;32m----> 4\u001b[0;31m \u001b[0;32mfrom\u001b[0m \u001b[0mtensorflow\u001b[0m\u001b[0;34m.\u001b[0m\u001b[0mkeras\u001b[0m\u001b[0;34m.\u001b[0m\u001b[0mwrappers\u001b[0m\u001b[0;34m.\u001b[0m\u001b[0mscikit_learn\u001b[0m \u001b[0;32mimport\u001b[0m \u001b[0mKerasClassifier\u001b[0m\u001b[0;34m\u001b[0m\u001b[0;34m\u001b[0m\u001b[0m\n\u001b[0m\u001b[1;32m      5\u001b[0m \u001b[0;32mfrom\u001b[0m \u001b[0mscipy\u001b[0m\u001b[0;34m.\u001b[0m\u001b[0mstats\u001b[0m \u001b[0;32mimport\u001b[0m \u001b[0mrandint\u001b[0m \u001b[0;32mas\u001b[0m \u001b[0msp_randint\u001b[0m\u001b[0;34m\u001b[0m\u001b[0;34m\u001b[0m\u001b[0m\n\u001b[1;32m      6\u001b[0m \u001b[0;32mfrom\u001b[0m \u001b[0mtensorflow\u001b[0m\u001b[0;34m.\u001b[0m\u001b[0mkeras\u001b[0m\u001b[0;34m.\u001b[0m\u001b[0mmodels\u001b[0m \u001b[0;32mimport\u001b[0m \u001b[0mSequential\u001b[0m\u001b[0;34m\u001b[0m\u001b[0;34m\u001b[0m\u001b[0m\n",
            "\u001b[0;31mModuleNotFoundError\u001b[0m: No module named 'tensorflow.keras.wrappers.scikit_learn'",
            "",
            "\u001b[0;31m---------------------------------------------------------------------------\u001b[0;32m\nNOTE: If your import is failing due to a missing package, you can\nmanually install dependencies using either !pip or !apt.\n\nTo view examples of installing some common dependencies, click the\n\"Open Examples\" button below.\n\u001b[0;31m---------------------------------------------------------------------------\u001b[0m\n"
          ],
          "errorDetails": {
            "actions": [
              {
                "action": "open_url",
                "actionText": "Open Examples",
                "url": "/notebooks/snippets/importing_libraries.ipynb"
              }
            ]
          }
        }
      ]
    },
    {
      "cell_type": "code",
      "source": [
        "!pip install scikeras"
      ],
      "metadata": {
        "colab": {
          "base_uri": "https://localhost:8080/"
        },
        "id": "CNOT72da4YM4",
        "outputId": "cb697a10-7af9-4620-c55b-7ccb762f5b05"
      },
      "execution_count": null,
      "outputs": [
        {
          "output_type": "stream",
          "name": "stdout",
          "text": [
            "Collecting scikeras\n",
            "  Downloading scikeras-0.13.0-py3-none-any.whl.metadata (3.1 kB)\n",
            "Requirement already satisfied: keras>=3.2.0 in /usr/local/lib/python3.12/dist-packages (from scikeras) (3.10.0)\n",
            "Requirement already satisfied: scikit-learn>=1.4.2 in /usr/local/lib/python3.12/dist-packages (from scikeras) (1.6.1)\n",
            "Requirement already satisfied: absl-py in /usr/local/lib/python3.12/dist-packages (from keras>=3.2.0->scikeras) (1.4.0)\n",
            "Requirement already satisfied: numpy in /usr/local/lib/python3.12/dist-packages (from keras>=3.2.0->scikeras) (2.0.2)\n",
            "Requirement already satisfied: rich in /usr/local/lib/python3.12/dist-packages (from keras>=3.2.0->scikeras) (13.9.4)\n",
            "Requirement already satisfied: namex in /usr/local/lib/python3.12/dist-packages (from keras>=3.2.0->scikeras) (0.1.0)\n",
            "Requirement already satisfied: h5py in /usr/local/lib/python3.12/dist-packages (from keras>=3.2.0->scikeras) (3.14.0)\n",
            "Requirement already satisfied: optree in /usr/local/lib/python3.12/dist-packages (from keras>=3.2.0->scikeras) (0.17.0)\n",
            "Requirement already satisfied: ml-dtypes in /usr/local/lib/python3.12/dist-packages (from keras>=3.2.0->scikeras) (0.5.3)\n",
            "Requirement already satisfied: packaging in /usr/local/lib/python3.12/dist-packages (from keras>=3.2.0->scikeras) (25.0)\n",
            "Requirement already satisfied: scipy>=1.6.0 in /usr/local/lib/python3.12/dist-packages (from scikit-learn>=1.4.2->scikeras) (1.16.2)\n",
            "Requirement already satisfied: joblib>=1.2.0 in /usr/local/lib/python3.12/dist-packages (from scikit-learn>=1.4.2->scikeras) (1.5.2)\n",
            "Requirement already satisfied: threadpoolctl>=3.1.0 in /usr/local/lib/python3.12/dist-packages (from scikit-learn>=1.4.2->scikeras) (3.6.0)\n",
            "Requirement already satisfied: typing-extensions>=4.6.0 in /usr/local/lib/python3.12/dist-packages (from optree->keras>=3.2.0->scikeras) (4.15.0)\n",
            "Requirement already satisfied: markdown-it-py>=2.2.0 in /usr/local/lib/python3.12/dist-packages (from rich->keras>=3.2.0->scikeras) (4.0.0)\n",
            "Requirement already satisfied: pygments<3.0.0,>=2.13.0 in /usr/local/lib/python3.12/dist-packages (from rich->keras>=3.2.0->scikeras) (2.19.2)\n",
            "Requirement already satisfied: mdurl~=0.1 in /usr/local/lib/python3.12/dist-packages (from markdown-it-py>=2.2.0->rich->keras>=3.2.0->scikeras) (0.1.2)\n",
            "Downloading scikeras-0.13.0-py3-none-any.whl (26 kB)\n",
            "Installing collected packages: scikeras\n",
            "Successfully installed scikeras-0.13.0\n"
          ]
        }
      ]
    },
    {
      "cell_type": "code",
      "source": [
        "# 1. Re-install the Keras wrapper library\n",
        "!pip install scikeras\n",
        "\n",
        "# 2. Re-install the compatible scikit-learn version\n",
        "!pip install scikit-learn==1.3.2"
      ],
      "metadata": {
        "colab": {
          "base_uri": "https://localhost:8080/"
        },
        "id": "Um5nQCJj7n-L",
        "outputId": "8261abcf-68e1-4177-bdc1-79dc355bf822"
      },
      "execution_count": null,
      "outputs": [
        {
          "output_type": "stream",
          "name": "stdout",
          "text": [
            "Requirement already satisfied: scikeras in /usr/local/lib/python3.12/dist-packages (0.13.0)\n",
            "Requirement already satisfied: keras>=3.2.0 in /usr/local/lib/python3.12/dist-packages (from scikeras) (3.10.0)\n",
            "Collecting scikit-learn>=1.4.2 (from scikeras)\n",
            "  Using cached scikit_learn-1.7.2-cp312-cp312-manylinux2014_x86_64.manylinux_2_17_x86_64.whl.metadata (11 kB)\n",
            "Requirement already satisfied: absl-py in /usr/local/lib/python3.12/dist-packages (from keras>=3.2.0->scikeras) (1.4.0)\n",
            "Requirement already satisfied: numpy in /usr/local/lib/python3.12/dist-packages (from keras>=3.2.0->scikeras) (1.26.4)\n",
            "Requirement already satisfied: rich in /usr/local/lib/python3.12/dist-packages (from keras>=3.2.0->scikeras) (13.9.4)\n",
            "Requirement already satisfied: namex in /usr/local/lib/python3.12/dist-packages (from keras>=3.2.0->scikeras) (0.1.0)\n",
            "Requirement already satisfied: h5py in /usr/local/lib/python3.12/dist-packages (from keras>=3.2.0->scikeras) (3.14.0)\n",
            "Requirement already satisfied: optree in /usr/local/lib/python3.12/dist-packages (from keras>=3.2.0->scikeras) (0.17.0)\n",
            "Requirement already satisfied: ml-dtypes in /usr/local/lib/python3.12/dist-packages (from keras>=3.2.0->scikeras) (0.5.3)\n",
            "Requirement already satisfied: packaging in /usr/local/lib/python3.12/dist-packages (from keras>=3.2.0->scikeras) (25.0)\n",
            "Requirement already satisfied: scipy>=1.8.0 in /usr/local/lib/python3.12/dist-packages (from scikit-learn>=1.4.2->scikeras) (1.16.2)\n",
            "Requirement already satisfied: joblib>=1.2.0 in /usr/local/lib/python3.12/dist-packages (from scikit-learn>=1.4.2->scikeras) (1.5.2)\n",
            "Requirement already satisfied: threadpoolctl>=3.1.0 in /usr/local/lib/python3.12/dist-packages (from scikit-learn>=1.4.2->scikeras) (3.6.0)\n",
            "Requirement already satisfied: typing-extensions>=4.6.0 in /usr/local/lib/python3.12/dist-packages (from optree->keras>=3.2.0->scikeras) (4.15.0)\n",
            "Requirement already satisfied: markdown-it-py>=2.2.0 in /usr/local/lib/python3.12/dist-packages (from rich->keras>=3.2.0->scikeras) (4.0.0)\n",
            "Requirement already satisfied: pygments<3.0.0,>=2.13.0 in /usr/local/lib/python3.12/dist-packages (from rich->keras>=3.2.0->scikeras) (2.19.2)\n",
            "Requirement already satisfied: mdurl~=0.1 in /usr/local/lib/python3.12/dist-packages (from markdown-it-py>=2.2.0->rich->keras>=3.2.0->scikeras) (0.1.2)\n",
            "Using cached scikit_learn-1.7.2-cp312-cp312-manylinux2014_x86_64.manylinux_2_17_x86_64.whl (9.5 MB)\n",
            "Installing collected packages: scikit-learn\n",
            "  Attempting uninstall: scikit-learn\n",
            "    Found existing installation: scikit-learn 1.3.2\n",
            "    Uninstalling scikit-learn-1.3.2:\n",
            "      Successfully uninstalled scikit-learn-1.3.2\n",
            "Successfully installed scikit-learn-1.7.2\n",
            "Collecting scikit-learn==1.3.2\n",
            "  Using cached scikit_learn-1.3.2-cp312-cp312-manylinux_2_17_x86_64.manylinux2014_x86_64.whl.metadata (11 kB)\n",
            "Requirement already satisfied: numpy<2.0,>=1.17.3 in /usr/local/lib/python3.12/dist-packages (from scikit-learn==1.3.2) (1.26.4)\n",
            "Requirement already satisfied: scipy>=1.5.0 in /usr/local/lib/python3.12/dist-packages (from scikit-learn==1.3.2) (1.16.2)\n",
            "Requirement already satisfied: joblib>=1.1.1 in /usr/local/lib/python3.12/dist-packages (from scikit-learn==1.3.2) (1.5.2)\n",
            "Requirement already satisfied: threadpoolctl>=2.0.0 in /usr/local/lib/python3.12/dist-packages (from scikit-learn==1.3.2) (3.6.0)\n",
            "Using cached scikit_learn-1.3.2-cp312-cp312-manylinux_2_17_x86_64.manylinux2014_x86_64.whl (10.8 MB)\n",
            "Installing collected packages: scikit-learn\n",
            "  Attempting uninstall: scikit-learn\n",
            "    Found existing installation: scikit-learn 1.7.2\n",
            "    Uninstalling scikit-learn-1.7.2:\n",
            "      Successfully uninstalled scikit-learn-1.7.2\n",
            "\u001b[31mERROR: pip's dependency resolver does not currently take into account all the packages that are installed. This behaviour is the source of the following dependency conflicts.\n",
            "scikeras 0.13.0 requires scikit-learn>=1.4.2, but you have scikit-learn 1.3.2 which is incompatible.\n",
            "cuml-cu12 25.6.0 requires scikit-learn>=1.5, but you have scikit-learn 1.3.2 which is incompatible.\n",
            "imbalanced-learn 0.14.0 requires scikit-learn<2,>=1.4.2, but you have scikit-learn 1.3.2 which is incompatible.\n",
            "umap-learn 0.5.9.post2 requires scikit-learn>=1.6, but you have scikit-learn 1.3.2 which is incompatible.\u001b[0m\u001b[31m\n",
            "\u001b[0mSuccessfully installed scikit-learn-1.3.2\n"
          ]
        }
      ]
    },
    {
      "cell_type": "code",
      "source": [
        "# 1. Re-Upload kaggle.json:\n",
        "from google.colab import files\n",
        "print(\"Please choose and upload your kaggle.json file again.\")\n",
        "files.upload()"
      ],
      "metadata": {
        "colab": {
          "base_uri": "https://localhost:8080/",
          "height": 108
        },
        "outputId": "42f556f6-18cd-487b-a0e2-94406bb369c8",
        "id": "nK0vTG8R8WCt"
      },
      "execution_count": null,
      "outputs": [
        {
          "output_type": "stream",
          "name": "stdout",
          "text": [
            "Please choose and upload your kaggle.json file again.\n"
          ]
        },
        {
          "output_type": "display_data",
          "data": {
            "text/plain": [
              "<IPython.core.display.HTML object>"
            ],
            "text/html": [
              "\n",
              "     <input type=\"file\" id=\"files-bbe213f7-5d73-4b2f-86a9-7ec259f12a32\" name=\"files[]\" multiple disabled\n",
              "        style=\"border:none\" />\n",
              "     <output id=\"result-bbe213f7-5d73-4b2f-86a9-7ec259f12a32\">\n",
              "      Upload widget is only available when the cell has been executed in the\n",
              "      current browser session. Please rerun this cell to enable.\n",
              "      </output>\n",
              "      <script>// Copyright 2017 Google LLC\n",
              "//\n",
              "// Licensed under the Apache License, Version 2.0 (the \"License\");\n",
              "// you may not use this file except in compliance with the License.\n",
              "// You may obtain a copy of the License at\n",
              "//\n",
              "//      http://www.apache.org/licenses/LICENSE-2.0\n",
              "//\n",
              "// Unless required by applicable law or agreed to in writing, software\n",
              "// distributed under the License is distributed on an \"AS IS\" BASIS,\n",
              "// WITHOUT WARRANTIES OR CONDITIONS OF ANY KIND, either express or implied.\n",
              "// See the License for the specific language governing permissions and\n",
              "// limitations under the License.\n",
              "\n",
              "/**\n",
              " * @fileoverview Helpers for google.colab Python module.\n",
              " */\n",
              "(function(scope) {\n",
              "function span(text, styleAttributes = {}) {\n",
              "  const element = document.createElement('span');\n",
              "  element.textContent = text;\n",
              "  for (const key of Object.keys(styleAttributes)) {\n",
              "    element.style[key] = styleAttributes[key];\n",
              "  }\n",
              "  return element;\n",
              "}\n",
              "\n",
              "// Max number of bytes which will be uploaded at a time.\n",
              "const MAX_PAYLOAD_SIZE = 100 * 1024;\n",
              "\n",
              "function _uploadFiles(inputId, outputId) {\n",
              "  const steps = uploadFilesStep(inputId, outputId);\n",
              "  const outputElement = document.getElementById(outputId);\n",
              "  // Cache steps on the outputElement to make it available for the next call\n",
              "  // to uploadFilesContinue from Python.\n",
              "  outputElement.steps = steps;\n",
              "\n",
              "  return _uploadFilesContinue(outputId);\n",
              "}\n",
              "\n",
              "// This is roughly an async generator (not supported in the browser yet),\n",
              "// where there are multiple asynchronous steps and the Python side is going\n",
              "// to poll for completion of each step.\n",
              "// This uses a Promise to block the python side on completion of each step,\n",
              "// then passes the result of the previous step as the input to the next step.\n",
              "function _uploadFilesContinue(outputId) {\n",
              "  const outputElement = document.getElementById(outputId);\n",
              "  const steps = outputElement.steps;\n",
              "\n",
              "  const next = steps.next(outputElement.lastPromiseValue);\n",
              "  return Promise.resolve(next.value.promise).then((value) => {\n",
              "    // Cache the last promise value to make it available to the next\n",
              "    // step of the generator.\n",
              "    outputElement.lastPromiseValue = value;\n",
              "    return next.value.response;\n",
              "  });\n",
              "}\n",
              "\n",
              "/**\n",
              " * Generator function which is called between each async step of the upload\n",
              " * process.\n",
              " * @param {string} inputId Element ID of the input file picker element.\n",
              " * @param {string} outputId Element ID of the output display.\n",
              " * @return {!Iterable<!Object>} Iterable of next steps.\n",
              " */\n",
              "function* uploadFilesStep(inputId, outputId) {\n",
              "  const inputElement = document.getElementById(inputId);\n",
              "  inputElement.disabled = false;\n",
              "\n",
              "  const outputElement = document.getElementById(outputId);\n",
              "  outputElement.innerHTML = '';\n",
              "\n",
              "  const pickedPromise = new Promise((resolve) => {\n",
              "    inputElement.addEventListener('change', (e) => {\n",
              "      resolve(e.target.files);\n",
              "    });\n",
              "  });\n",
              "\n",
              "  const cancel = document.createElement('button');\n",
              "  inputElement.parentElement.appendChild(cancel);\n",
              "  cancel.textContent = 'Cancel upload';\n",
              "  const cancelPromise = new Promise((resolve) => {\n",
              "    cancel.onclick = () => {\n",
              "      resolve(null);\n",
              "    };\n",
              "  });\n",
              "\n",
              "  // Wait for the user to pick the files.\n",
              "  const files = yield {\n",
              "    promise: Promise.race([pickedPromise, cancelPromise]),\n",
              "    response: {\n",
              "      action: 'starting',\n",
              "    }\n",
              "  };\n",
              "\n",
              "  cancel.remove();\n",
              "\n",
              "  // Disable the input element since further picks are not allowed.\n",
              "  inputElement.disabled = true;\n",
              "\n",
              "  if (!files) {\n",
              "    return {\n",
              "      response: {\n",
              "        action: 'complete',\n",
              "      }\n",
              "    };\n",
              "  }\n",
              "\n",
              "  for (const file of files) {\n",
              "    const li = document.createElement('li');\n",
              "    li.append(span(file.name, {fontWeight: 'bold'}));\n",
              "    li.append(span(\n",
              "        `(${file.type || 'n/a'}) - ${file.size} bytes, ` +\n",
              "        `last modified: ${\n",
              "            file.lastModifiedDate ? file.lastModifiedDate.toLocaleDateString() :\n",
              "                                    'n/a'} - `));\n",
              "    const percent = span('0% done');\n",
              "    li.appendChild(percent);\n",
              "\n",
              "    outputElement.appendChild(li);\n",
              "\n",
              "    const fileDataPromise = new Promise((resolve) => {\n",
              "      const reader = new FileReader();\n",
              "      reader.onload = (e) => {\n",
              "        resolve(e.target.result);\n",
              "      };\n",
              "      reader.readAsArrayBuffer(file);\n",
              "    });\n",
              "    // Wait for the data to be ready.\n",
              "    let fileData = yield {\n",
              "      promise: fileDataPromise,\n",
              "      response: {\n",
              "        action: 'continue',\n",
              "      }\n",
              "    };\n",
              "\n",
              "    // Use a chunked sending to avoid message size limits. See b/62115660.\n",
              "    let position = 0;\n",
              "    do {\n",
              "      const length = Math.min(fileData.byteLength - position, MAX_PAYLOAD_SIZE);\n",
              "      const chunk = new Uint8Array(fileData, position, length);\n",
              "      position += length;\n",
              "\n",
              "      const base64 = btoa(String.fromCharCode.apply(null, chunk));\n",
              "      yield {\n",
              "        response: {\n",
              "          action: 'append',\n",
              "          file: file.name,\n",
              "          data: base64,\n",
              "        },\n",
              "      };\n",
              "\n",
              "      let percentDone = fileData.byteLength === 0 ?\n",
              "          100 :\n",
              "          Math.round((position / fileData.byteLength) * 100);\n",
              "      percent.textContent = `${percentDone}% done`;\n",
              "\n",
              "    } while (position < fileData.byteLength);\n",
              "  }\n",
              "\n",
              "  // All done.\n",
              "  yield {\n",
              "    response: {\n",
              "      action: 'complete',\n",
              "    }\n",
              "  };\n",
              "}\n",
              "\n",
              "scope.google = scope.google || {};\n",
              "scope.google.colab = scope.google.colab || {};\n",
              "scope.google.colab._files = {\n",
              "  _uploadFiles,\n",
              "  _uploadFilesContinue,\n",
              "};\n",
              "})(self);\n",
              "</script> "
            ]
          },
          "metadata": {}
        },
        {
          "output_type": "stream",
          "name": "stdout",
          "text": [
            "Saving kaggle.json to kaggle.json\n"
          ]
        },
        {
          "output_type": "execute_result",
          "data": {
            "text/plain": [
              "{'kaggle.json': b'{\"username\":\"fangel1\",\"key\":\"aa9a90925e4aaf851a09ec68e7a14392\"}'}"
            ]
          },
          "metadata": {},
          "execution_count": 3
        }
      ]
    },
    {
      "cell_type": "code",
      "source": [
        "import pandas as pd\n",
        "import numpy as np\n",
        "from sklearn.model_selection import train_test_split\n",
        "from sklearn.preprocessing import LabelEncoder, MinMaxScaler\n",
        "import tensorflow as tf\n",
        "\n",
        "# --- Restore UNSW-NB15 (Dataset A) ---\n",
        "print(\"--- Restoring UNSW-NB15 (A) ---\")\n",
        "# Requires working Kaggle credentials\n",
        "!kaggle datasets download -d mrwellsdavid/unsw-nb15\n",
        "!unzip -o unsw-nb15.zip\n",
        "!rm unsw-nb15.zip\n",
        "UNSW_FILE = 'UNSW_NB15_training-set.csv'\n",
        "df_a = pd.read_csv(UNSW_FILE, encoding='latin1', low_memory=False)\n",
        "df_a.columns = df_a.columns.str.strip()\n",
        "\n",
        "# Preprocess A\n",
        "df_a.replace([np.inf, -np.inf], np.nan, inplace=True)\n",
        "df_a.dropna(inplace=True)\n",
        "df_a.drop_duplicates(inplace=True)\n",
        "X_a = df_a.drop(columns=['label', 'attack_cat'])\n",
        "y_a = df_a['label']\n",
        "for col in X_a.select_dtypes(include=['object']).columns:\n",
        "    le = LabelEncoder()\n",
        "    X_a[col] = X_a[col].astype(str).fillna('missing')\n",
        "    X_a[col] = le.fit_transform(X_a[col])\n",
        "scaler_a = MinMaxScaler()\n",
        "X_a = pd.DataFrame(scaler_a.fit_transform(X_a), columns=X_a.columns)\n",
        "X_a_train, X_a_test, y_a_train, y_a_test = train_test_split(\n",
        "    X_a, y_a, test_size=0.3, random_state=42, stratify=y_a\n",
        ")\n",
        "print(f\"✅ Dataset A (UNSW-NB15) variables restored. Shape: {X_a_train.shape}\")\n",
        "\n",
        "\n",
        "# --- Restore KDD Cup 1999 (Dataset B) ---\n",
        "print(\"\\n--- Restoring KDD Cup 1999 (B) ---\")\n",
        "# Direct download bypasses Kaggle issues\n",
        "!wget -q http://kdd.ics.uci.edu/databases/kddcup99/kddcup.data_10_percent.gz -O kddcup.data_10_percent.gz\n",
        "!gunzip -f kddcup.data_10_percent.gz\n",
        "\n",
        "columns_b = [\n",
        "    'duration', 'protocol_type', 'service', 'flag', 'src_bytes', 'dst_bytes', 'land', 'wrong_fragment',\n",
        "    'urgent', 'hot', 'num_failed_logins', 'logged_in', 'num_compromised', 'root_shell', 'su_attempted',\n",
        "    'num_root', 'num_file_creations', 'num_shells', 'num_access_files', 'num_outbound_cmds',\n",
        "    'is_host_login', 'is_guest_login', 'count', 'srv_count', 'serror_rate', 'srv_serror_rate',\n",
        "    'rerror_rate', 'srv_rerror_rate', 'same_srv_rate', 'diff_srv_rate', 'srv_diff_host_rate',\n",
        "    'dst_host_count', 'dst_host_srv_count', 'dst_host_same_srv_rate', 'dst_host_diff_srv_rate',\n",
        "    'dst_host_same_src_port_rate', 'dst_host_srv_diff_host_rate', 'dst_host_serror_rate',\n",
        "    'dst_host_srv_serror_rate', 'dst_host_rerror_rate', 'dst_host_srv_rerror_rate',\n",
        "    'attack_type'\n",
        "]\n",
        "KDD_FILE = 'kddcup.data_10_percent'\n",
        "df_b = pd.read_csv(KDD_FILE, names=columns_b, index_col=False, dtype=str, low_memory=False)\n",
        "\n",
        "# Preprocess B (Robust Coercion)\n",
        "categorical_cols_b_raw = ['protocol_type', 'service', 'flag', 'attack_type']\n",
        "numeric_cols_b = [col for col in columns_b if col not in categorical_cols_b_raw]\n",
        "for col in numeric_cols_b:\n",
        "    df_b[col] = pd.to_numeric(df_b[col], errors='coerce')\n",
        "df_b.replace([np.inf, -np.inf], np.nan, inplace=True)\n",
        "df_b.dropna(inplace=True)\n",
        "df_b.drop_duplicates(inplace=True)\n",
        "df_b['binary_label'] = df_b['attack_type'].apply(lambda x: 0 if x.strip() == 'normal.' else 1)\n",
        "X_b = df_b.drop(columns=['attack_type', 'binary_label'])\n",
        "y_b = df_b['binary_label']\n",
        "categorical_cols_b = ['protocol_type', 'service', 'flag']\n",
        "for col in categorical_cols_b:\n",
        "    le = LabelEncoder()\n",
        "    X_b[col] = le.fit_transform(X_b[col])\n",
        "scaler_b = MinMaxScaler()\n",
        "X_b = pd.DataFrame(scaler_b.fit_transform(X_b), columns=X_b.columns)\n",
        "X_b_train, X_b_test, y_b_train, y_b_test = train_test_split(\n",
        "    X_b, y_b, test_size=0.3, random_state=42, stratify=y_b\n",
        ")\n",
        "print(f\"✅ Dataset B (KDD Cup 1999) variables restored. Shape: {X_b_train.shape}\")\n",
        "\n",
        "\n",
        "# --- CNN Reshaping (Critical for the Hybrid Model) ---\n",
        "FEATURES = 1\n",
        "X_a_train_cnn = np.expand_dims(X_a_train, axis=2)\n",
        "X_a_test_cnn = np.expand_dims(X_a_test, axis=2)\n",
        "X_b_train_cnn = np.expand_dims(X_b_train, axis=2)\n",
        "X_b_test_cnn = np.expand_dims(X_b_test, axis=2)\n",
        "print(\"✅ CNN data shapes created.\")"
      ],
      "metadata": {
        "colab": {
          "base_uri": "https://localhost:8080/"
        },
        "id": "cLzqdhvd8cGY",
        "outputId": "4e871524-5b73-4f57-c9c1-176ccf924b33"
      },
      "execution_count": null,
      "outputs": [
        {
          "output_type": "stream",
          "name": "stdout",
          "text": [
            "--- Restoring UNSW-NB15 (A) ---\n",
            "Dataset URL: https://www.kaggle.com/datasets/mrwellsdavid/unsw-nb15\n",
            "License(s): unknown\n",
            "Downloading unsw-nb15.zip to /content\n",
            " 89% 132M/149M [00:00<00:00, 1.37GB/s]\n",
            "100% 149M/149M [00:00<00:00, 1.27GB/s]\n",
            "Archive:  unsw-nb15.zip\n",
            "  inflating: NUSW-NB15_features.csv  \n",
            "  inflating: UNSW-NB15_1.csv         \n",
            "  inflating: UNSW-NB15_2.csv         \n",
            "  inflating: UNSW-NB15_3.csv         \n",
            "  inflating: UNSW-NB15_4.csv         \n",
            "  inflating: UNSW-NB15_LIST_EVENTS.csv  \n",
            "  inflating: UNSW_NB15_testing-set.csv  \n",
            "  inflating: UNSW_NB15_training-set.csv  \n",
            "✅ Dataset A (UNSW-NB15) variables restored. Shape: (57632, 43)\n",
            "\n",
            "--- Restoring KDD Cup 1999 (B) ---\n",
            "✅ Dataset B (KDD Cup 1999) variables restored. Shape: (101910, 41)\n",
            "✅ CNN data shapes created.\n"
          ]
        }
      ]
    },
    {
      "cell_type": "code",
      "source": [
        "from sklearn.model_selection import RandomizedSearchCV\n",
        "from scikeras.wrappers import KerasClassifier\n",
        "from scipy.stats import randint as sp_randint\n",
        "from tensorflow.keras.models import Sequential\n",
        "from tensorflow.keras.layers import Conv1D, MaxPooling1D, Flatten, Dense\n",
        "import tensorflow as tf\n",
        "import numpy as np\n",
        "\n",
        "TIME_STEPS_A = X_a_train.shape[1]\n",
        "FEATURES = 1\n",
        "\n",
        "print(\"\\n--- Setting up Hybrid Model (CNN + Optimization Proxy) on Dataset A ---\")\n",
        "\n",
        "\n",
        "def create_tunable_cnn(filters=32, dense_units=50, kernel_size=2, learning_rate=0.001):\n",
        "    \"\"\"Creates a CNN model instance with tunable hyperparameters.\"\"\"\n",
        "    model = Sequential([\n",
        "        Conv1D(filters=filters, kernel_size=kernel_size, activation='relu', input_shape=(TIME_STEPS_A, FEATURES)),\n",
        "        MaxPooling1D(pool_size=2),\n",
        "        Flatten(),\n",
        "        Dense(dense_units, activation='relu'),\n",
        "        Dense(1, activation='sigmoid')\n",
        "    ])\n",
        "    optimizer = tf.keras.optimizers.Adam(learning_rate=learning_rate)\n",
        "    model.compile(optimizer=optimizer, loss='binary_crossentropy', metrics=['accuracy'])\n",
        "    return model\n",
        "\n",
        "\n",
        "model_wrapper = KerasClassifier(\n",
        "    model=create_tunable_cnn,\n",
        "    verbose=0,\n",
        "    loss=\"binary_crossentropy\",\n",
        "    metrics=[\"accuracy\"],\n",
        "    filters=32,\n",
        "    dense_units=50,\n",
        "    kernel_size=2,\n",
        "    learning_rate=0.001\n",
        ")\n",
        "\n",
        "\n",
        "param_dist = {\n",
        "    'filters': sp_randint(16, 64),\n",
        "    'dense_units': sp_randint(30, 100),\n",
        "    'batch_size': [32, 64, 128],\n",
        "    'epochs': [5, 10],\n",
        "    'model__learning_rate': [0.01, 0.001]\n",
        "}\n",
        "\n",
        "# Use Random Search as a proxy for the Metaheuristic Optimization\n",
        "random_search = RandomizedSearchCV(\n",
        "    estimator=model_wrapper,\n",
        "    param_distributions=param_dist,\n",
        "    n_iter=5, # Limited iterations for quick execution\n",
        "    cv=3, # 3-fold cross-validation\n",
        "    verbose=2, # Set to 2 to see iteration progress\n",
        "    random_state=42,\n",
        ")\n",
        "\n",
        "\n",
        "print(\"\\nStarting 5-iteration Random Search...\")\n",
        "random_search.fit(X_a_train, y_a_train)\n",
        "\n",
        "print(\"\\n--- Hybrid Model Evaluation (Optimized CNN) ---\")\n",
        "print(\"Best Parameters found:\")\n",
        "print(random_search.best_params_)\n",
        "\n",
        "\n",
        "best_model_wrapper = random_search.best_estimator_\n",
        "loss_opt, accuracy_opt = best_model_wrapper.model.evaluate(X_a_test_cnn, y_a_test, verbose=0)\n",
        "\n",
        "print(f\"\\nOptimized CNN (Hybrid) Accuracy on UNSW-NB15: {accuracy_opt:.4f}\")"
      ],
      "metadata": {
        "colab": {
          "base_uri": "https://localhost:8080/",
          "height": 1000
        },
        "id": "NeQOtOJa8yRl",
        "outputId": "1be9920b-8a25-4d97-d913-afbcfe8a345b"
      },
      "execution_count": null,
      "outputs": [
        {
          "metadata": {
            "tags": null
          },
          "name": "stdout",
          "output_type": "stream",
          "text": [
            "\n",
            "--- Setting up Hybrid Model (CNN + Optimization Proxy) on Dataset A ---\n",
            "\n",
            "Starting 5-iteration Random Search...\n",
            "Fitting 3 folds for each of 5 candidates, totalling 15 fits\n"
          ]
        },
        {
          "metadata": {
            "tags": null
          },
          "name": "stderr",
          "output_type": "stream",
          "text": [
            "/usr/local/lib/python3.12/dist-packages/keras/src/layers/convolutional/base_conv.py:113: UserWarning: Do not pass an `input_shape`/`input_dim` argument to a layer. When using Sequential models, prefer using an `Input(shape)` object as the first layer in the model instead.\n",
            "  super().__init__(activity_regularizer=activity_regularizer, **kwargs)\n"
          ]
        },
        {
          "metadata": {
            "tags": null
          },
          "name": "stdout",
          "output_type": "stream",
          "text": [
            "[CV] END batch_size=128, dense_units=81, epochs=5, filters=30, model__learning_rate=0.01; total time=  14.1s\n"
          ]
        },
        {
          "metadata": {
            "tags": null
          },
          "name": "stderr",
          "output_type": "stream",
          "text": [
            "/usr/local/lib/python3.12/dist-packages/keras/src/layers/convolutional/base_conv.py:113: UserWarning: Do not pass an `input_shape`/`input_dim` argument to a layer. When using Sequential models, prefer using an `Input(shape)` object as the first layer in the model instead.\n",
            "  super().__init__(activity_regularizer=activity_regularizer, **kwargs)\n"
          ]
        },
        {
          "metadata": {
            "tags": null
          },
          "name": "stdout",
          "output_type": "stream",
          "text": [
            "[CV] END batch_size=128, dense_units=81, epochs=5, filters=30, model__learning_rate=0.01; total time=  15.7s\n"
          ]
        },
        {
          "metadata": {
            "tags": null
          },
          "name": "stderr",
          "output_type": "stream",
          "text": [
            "/usr/local/lib/python3.12/dist-packages/keras/src/layers/convolutional/base_conv.py:113: UserWarning: Do not pass an `input_shape`/`input_dim` argument to a layer. When using Sequential models, prefer using an `Input(shape)` object as the first layer in the model instead.\n",
            "  super().__init__(activity_regularizer=activity_regularizer, **kwargs)\n"
          ]
        },
        {
          "metadata": {
            "tags": null
          },
          "name": "stdout",
          "output_type": "stream",
          "text": [
            "[CV] END batch_size=128, dense_units=81, epochs=5, filters=30, model__learning_rate=0.01; total time=  13.5s\n"
          ]
        },
        {
          "metadata": {
            "tags": null
          },
          "name": "stderr",
          "output_type": "stream",
          "text": [
            "/usr/local/lib/python3.12/dist-packages/keras/src/layers/convolutional/base_conv.py:113: UserWarning: Do not pass an `input_shape`/`input_dim` argument to a layer. When using Sequential models, prefer using an `Input(shape)` object as the first layer in the model instead.\n",
            "  super().__init__(activity_regularizer=activity_regularizer, **kwargs)\n"
          ]
        },
        {
          "metadata": {
            "tags": null
          },
          "name": "stdout",
          "output_type": "stream",
          "text": [
            "[CV] END batch_size=32, dense_units=50, epochs=5, filters=34, model__learning_rate=0.01; total time=  27.2s\n"
          ]
        },
        {
          "metadata": {
            "tags": null
          },
          "name": "stderr",
          "output_type": "stream",
          "text": [
            "/usr/local/lib/python3.12/dist-packages/keras/src/layers/convolutional/base_conv.py:113: UserWarning: Do not pass an `input_shape`/`input_dim` argument to a layer. When using Sequential models, prefer using an `Input(shape)` object as the first layer in the model instead.\n",
            "  super().__init__(activity_regularizer=activity_regularizer, **kwargs)\n"
          ]
        },
        {
          "metadata": {
            "tags": null
          },
          "name": "stdout",
          "output_type": "stream",
          "text": [
            "[CV] END batch_size=32, dense_units=50, epochs=5, filters=34, model__learning_rate=0.01; total time=  26.1s\n"
          ]
        },
        {
          "metadata": {
            "tags": null
          },
          "name": "stderr",
          "output_type": "stream",
          "text": [
            "/usr/local/lib/python3.12/dist-packages/keras/src/layers/convolutional/base_conv.py:113: UserWarning: Do not pass an `input_shape`/`input_dim` argument to a layer. When using Sequential models, prefer using an `Input(shape)` object as the first layer in the model instead.\n",
            "  super().__init__(activity_regularizer=activity_regularizer, **kwargs)\n"
          ]
        },
        {
          "metadata": {
            "tags": null
          },
          "name": "stdout",
          "output_type": "stream",
          "text": [
            "[CV] END batch_size=32, dense_units=50, epochs=5, filters=34, model__learning_rate=0.01; total time=  26.1s\n"
          ]
        },
        {
          "metadata": {
            "tags": null
          },
          "name": "stderr",
          "output_type": "stream",
          "text": [
            "/usr/local/lib/python3.12/dist-packages/keras/src/layers/convolutional/base_conv.py:113: UserWarning: Do not pass an `input_shape`/`input_dim` argument to a layer. When using Sequential models, prefer using an `Input(shape)` object as the first layer in the model instead.\n",
            "  super().__init__(activity_regularizer=activity_regularizer, **kwargs)\n"
          ]
        },
        {
          "metadata": {
            "tags": null
          },
          "name": "stdout",
          "output_type": "stream",
          "text": [
            "[CV] END batch_size=128, dense_units=53, epochs=5, filters=37, model__learning_rate=0.01; total time=  13.9s\n"
          ]
        },
        {
          "metadata": {
            "tags": null
          },
          "name": "stderr",
          "output_type": "stream",
          "text": [
            "/usr/local/lib/python3.12/dist-packages/keras/src/layers/convolutional/base_conv.py:113: UserWarning: Do not pass an `input_shape`/`input_dim` argument to a layer. When using Sequential models, prefer using an `Input(shape)` object as the first layer in the model instead.\n",
            "  super().__init__(activity_regularizer=activity_regularizer, **kwargs)\n"
          ]
        },
        {
          "metadata": {
            "tags": null
          },
          "name": "stdout",
          "output_type": "stream",
          "text": [
            "[CV] END batch_size=128, dense_units=53, epochs=5, filters=37, model__learning_rate=0.01; total time=  15.0s\n"
          ]
        },
        {
          "metadata": {
            "tags": null
          },
          "name": "stderr",
          "output_type": "stream",
          "text": [
            "/usr/local/lib/python3.12/dist-packages/keras/src/layers/convolutional/base_conv.py:113: UserWarning: Do not pass an `input_shape`/`input_dim` argument to a layer. When using Sequential models, prefer using an `Input(shape)` object as the first layer in the model instead.\n",
            "  super().__init__(activity_regularizer=activity_regularizer, **kwargs)\n"
          ]
        },
        {
          "metadata": {
            "tags": null
          },
          "name": "stdout",
          "output_type": "stream",
          "text": [
            "[CV] END batch_size=128, dense_units=53, epochs=5, filters=37, model__learning_rate=0.01; total time=  13.4s\n"
          ]
        },
        {
          "metadata": {
            "tags": null
          },
          "name": "stderr",
          "output_type": "stream",
          "text": [
            "/usr/local/lib/python3.12/dist-packages/keras/src/layers/convolutional/base_conv.py:113: UserWarning: Do not pass an `input_shape`/`input_dim` argument to a layer. When using Sequential models, prefer using an `Input(shape)` object as the first layer in the model instead.\n",
            "  super().__init__(activity_regularizer=activity_regularizer, **kwargs)\n"
          ]
        },
        {
          "metadata": {
            "tags": null
          },
          "name": "stdout",
          "output_type": "stream",
          "text": [
            "[CV] END batch_size=64, dense_units=59, epochs=10, filters=17, model__learning_rate=0.001; total time=  26.7s\n"
          ]
        },
        {
          "metadata": {
            "tags": null
          },
          "name": "stderr",
          "output_type": "stream",
          "text": [
            "/usr/local/lib/python3.12/dist-packages/keras/src/layers/convolutional/base_conv.py:113: UserWarning: Do not pass an `input_shape`/`input_dim` argument to a layer. When using Sequential models, prefer using an `Input(shape)` object as the first layer in the model instead.\n",
            "  super().__init__(activity_regularizer=activity_regularizer, **kwargs)\n"
          ]
        },
        {
          "metadata": {
            "tags": null
          },
          "name": "stdout",
          "output_type": "stream",
          "text": [
            "[CV] END batch_size=64, dense_units=59, epochs=10, filters=17, model__learning_rate=0.001; total time=  26.8s\n"
          ]
        },
        {
          "metadata": {
            "tags": null
          },
          "name": "stderr",
          "output_type": "stream",
          "text": [
            "/usr/local/lib/python3.12/dist-packages/keras/src/layers/convolutional/base_conv.py:113: UserWarning: Do not pass an `input_shape`/`input_dim` argument to a layer. When using Sequential models, prefer using an `Input(shape)` object as the first layer in the model instead.\n",
            "  super().__init__(activity_regularizer=activity_regularizer, **kwargs)\n"
          ]
        },
        {
          "metadata": {
            "tags": null
          },
          "name": "stdout",
          "output_type": "stream",
          "text": [
            "[CV] END batch_size=64, dense_units=59, epochs=10, filters=17, model__learning_rate=0.001; total time=  31.2s\n"
          ]
        },
        {
          "metadata": {
            "tags": null
          },
          "name": "stderr",
          "output_type": "stream",
          "text": [
            "/usr/local/lib/python3.12/dist-packages/keras/src/layers/convolutional/base_conv.py:113: UserWarning: Do not pass an `input_shape`/`input_dim` argument to a layer. When using Sequential models, prefer using an `Input(shape)` object as the first layer in the model instead.\n",
            "  super().__init__(activity_regularizer=activity_regularizer, **kwargs)\n"
          ]
        },
        {
          "metadata": {
            "tags": null
          },
          "name": "stdout",
          "output_type": "stream",
          "text": [
            "[CV] END batch_size=32, dense_units=62, epochs=10, filters=37, model__learning_rate=0.01; total time=  52.5s\n"
          ]
        },
        {
          "metadata": {
            "tags": null
          },
          "name": "stderr",
          "output_type": "stream",
          "text": [
            "/usr/local/lib/python3.12/dist-packages/keras/src/layers/convolutional/base_conv.py:113: UserWarning: Do not pass an `input_shape`/`input_dim` argument to a layer. When using Sequential models, prefer using an `Input(shape)` object as the first layer in the model instead.\n",
            "  super().__init__(activity_regularizer=activity_regularizer, **kwargs)\n"
          ]
        },
        {
          "metadata": {
            "tags": null
          },
          "name": "stdout",
          "output_type": "stream",
          "text": [
            "[CV] END batch_size=32, dense_units=62, epochs=10, filters=37, model__learning_rate=0.01; total time=  54.2s\n"
          ]
        },
        {
          "metadata": {
            "tags": null
          },
          "name": "stderr",
          "output_type": "stream",
          "text": [
            "/usr/local/lib/python3.12/dist-packages/keras/src/layers/convolutional/base_conv.py:113: UserWarning: Do not pass an `input_shape`/`input_dim` argument to a layer. When using Sequential models, prefer using an `Input(shape)` object as the first layer in the model instead.\n",
            "  super().__init__(activity_regularizer=activity_regularizer, **kwargs)\n"
          ]
        },
        {
          "metadata": {
            "tags": null
          },
          "name": "stdout",
          "output_type": "stream",
          "text": [
            "[CV] END batch_size=32, dense_units=62, epochs=10, filters=37, model__learning_rate=0.01; total time=  58.7s\n"
          ]
        },
        {
          "metadata": {
            "tags": null
          },
          "name": "stderr",
          "output_type": "stream",
          "text": [
            "/usr/local/lib/python3.12/dist-packages/keras/src/layers/convolutional/base_conv.py:113: UserWarning: Do not pass an `input_shape`/`input_dim` argument to a layer. When using Sequential models, prefer using an `Input(shape)` object as the first layer in the model instead.\n",
            "  super().__init__(activity_regularizer=activity_regularizer, **kwargs)\n"
          ]
        },
        {
          "metadata": {
            "tags": null
          },
          "name": "stdout",
          "output_type": "stream",
          "text": [
            "\n",
            "--- Hybrid Model Evaluation (Optimized CNN) ---\n",
            "Best Parameters found:\n",
            "{'batch_size': 32, 'dense_units': 62, 'epochs': 10, 'filters': 37, 'model__learning_rate': 0.01}\n"
          ]
        },
        {
          "ename": "AttributeError",
          "evalue": "'function' object has no attribute 'evaluate'",
          "output_type": "error",
          "traceback": [
            "\u001b[0;31m---------------------------------------------------------------------------\u001b[0m",
            "\u001b[0;31mAttributeError\u001b[0m                            Traceback (most recent call last)",
            "\u001b[0;32m/tmp/ipython-input-193600211.py\u001b[0m in \u001b[0;36m<cell line: 0>\u001b[0;34m()\u001b[0m\n\u001b[1;32m     70\u001b[0m \u001b[0;31m# Evaluate the best model found on the test data (must use reshaped 3D data)\u001b[0m\u001b[0;34m\u001b[0m\u001b[0;34m\u001b[0m\u001b[0m\n\u001b[1;32m     71\u001b[0m \u001b[0mbest_model_wrapper\u001b[0m \u001b[0;34m=\u001b[0m \u001b[0mrandom_search\u001b[0m\u001b[0;34m.\u001b[0m\u001b[0mbest_estimator_\u001b[0m\u001b[0;34m\u001b[0m\u001b[0;34m\u001b[0m\u001b[0m\n\u001b[0;32m---> 72\u001b[0;31m \u001b[0mloss_opt\u001b[0m\u001b[0;34m,\u001b[0m \u001b[0maccuracy_opt\u001b[0m \u001b[0;34m=\u001b[0m \u001b[0mbest_model_wrapper\u001b[0m\u001b[0;34m.\u001b[0m\u001b[0mmodel\u001b[0m\u001b[0;34m.\u001b[0m\u001b[0mevaluate\u001b[0m\u001b[0;34m(\u001b[0m\u001b[0mX_a_test_cnn\u001b[0m\u001b[0;34m,\u001b[0m \u001b[0my_a_test\u001b[0m\u001b[0;34m,\u001b[0m \u001b[0mverbose\u001b[0m\u001b[0;34m=\u001b[0m\u001b[0;36m0\u001b[0m\u001b[0;34m)\u001b[0m\u001b[0;34m\u001b[0m\u001b[0;34m\u001b[0m\u001b[0m\n\u001b[0m\u001b[1;32m     73\u001b[0m \u001b[0;34m\u001b[0m\u001b[0m\n\u001b[1;32m     74\u001b[0m \u001b[0mprint\u001b[0m\u001b[0;34m(\u001b[0m\u001b[0;34mf\"\\nOptimized CNN (Hybrid) Accuracy on UNSW-NB15: {accuracy_opt:.4f}\"\u001b[0m\u001b[0;34m)\u001b[0m\u001b[0;34m\u001b[0m\u001b[0;34m\u001b[0m\u001b[0m\n",
            "\u001b[0;31mAttributeError\u001b[0m: 'function' object has no attribute 'evaluate'"
          ]
        }
      ]
    },
    {
      "cell_type": "code",
      "source": [
        "from sklearn.metrics import classification_report\n",
        "import numpy as np\n",
        "\n",
        "print(\"\\n--- Final Hybrid Model Evaluation ---\")\n",
        "\n",
        "\n",
        "best_model = random_search.best_estimator_.model_\n",
        "\n",
        "\n",
        "loss_opt, accuracy_opt = best_model.evaluate(X_a_test_cnn, y_a_test, verbose=0)\n",
        "\n",
        "print(f\"\\nOptimized CNN (Hybrid) Accuracy on UNSW-NB15: {accuracy_opt:.4f}\")\n",
        "\n",
        "\n",
        "y_a_pred_opt = (best_model.predict(X_a_test_cnn) > 0.5).astype(\"int32\")\n",
        "print(\"\\nOptimized CNN (Hybrid) Classification Report:\")\n",
        "print(classification_report(y_a_test, y_a_pred_opt, zero_division=0))\n",
        "\n",
        "print(\"\\n--- ✅ Phase 2: Model Development Complete! ---\")"
      ],
      "metadata": {
        "colab": {
          "base_uri": "https://localhost:8080/"
        },
        "id": "kMZFmXUn_ra5",
        "outputId": "2647e33b-c564-40b3-ef03-cb3ee491cbd7"
      },
      "execution_count": null,
      "outputs": [
        {
          "output_type": "stream",
          "name": "stdout",
          "text": [
            "\n",
            "--- Final Hybrid Model Evaluation ---\n",
            "\n",
            "Optimized CNN (Hybrid) Accuracy on UNSW-NB15: 0.9951\n",
            "\u001b[1m772/772\u001b[0m \u001b[32m━━━━━━━━━━━━━━━━━━━━\u001b[0m\u001b[37m\u001b[0m \u001b[1m1s\u001b[0m 2ms/step\n",
            "\n",
            "Optimized CNN (Hybrid) Classification Report:\n",
            "              precision    recall  f1-score   support\n",
            "\n",
            "           0       1.00      0.99      0.99     11100\n",
            "           1       0.99      1.00      1.00     13600\n",
            "\n",
            "    accuracy                           1.00     24700\n",
            "   macro avg       1.00      0.99      1.00     24700\n",
            "weighted avg       1.00      1.00      1.00     24700\n",
            "\n",
            "\n",
            "--- ✅ Phase 2: Model Development Complete! ---\n"
          ]
        }
      ]
    },
    {
      "cell_type": "code",
      "source": [
        "from sklearn.model_selection import RandomizedSearchCV\n",
        "from scikeras.wrappers import KerasClassifier\n",
        "from scipy.stats import randint as sp_randint\n",
        "from tensorflow.keras.models import Sequential\n",
        "from tensorflow.keras.layers import Conv1D, MaxPooling1D, Flatten, Dense\n",
        "import tensorflow as tf\n",
        "import numpy as np\n",
        "from sklearn.metrics import classification_report\n",
        "\n",
        "TIME_STEPS_B = X_b_train.shape[1]\n",
        "FEATURES = 1\n",
        "\n",
        "print(\"\\n--- Setting up Hybrid Model (CNN + Optimization Proxy) on Dataset B (KDD Cup 1999) ---\")\n",
        "\n",
        "\n",
        "def create_tunable_cnn_b(filters=32, dense_units=50, kernel_size=2, learning_rate=0.001):\n",
        "    \"\"\"Creates a CNN model instance with tunable hyperparameters.\"\"\"\n",
        "    model = Sequential([\n",
        "        Conv1D(filters=filters, kernel_size=kernel_size, activation='relu', input_shape=(TIME_STEPS_B, FEATURES)),\n",
        "        MaxPooling1D(pool_size=2),\n",
        "        Flatten(),\n",
        "        Dense(dense_units, activation='relu'),\n",
        "        Dense(1, activation='sigmoid')\n",
        "    ])\n",
        "    optimizer = tf.keras.optimizers.Adam(learning_rate=learning_rate)\n",
        "    model.compile(optimizer=optimizer, loss='binary_crossentropy', metrics=['accuracy'])\n",
        "    return model\n",
        "\n",
        "\n",
        "model_wrapper_b = KerasClassifier(\n",
        "    model=create_tunable_cnn_b,\n",
        "    verbose=0,\n",
        "    loss=\"binary_crossentropy\",\n",
        "    metrics=[\"accuracy\"],\n",
        "    filters=32,\n",
        "    dense_units=50,\n",
        "    kernel_size=2,\n",
        "    learning_rate=0.001\n",
        ")\n",
        "\n",
        "\n",
        "param_dist = {\n",
        "    'filters': sp_randint(16, 64),\n",
        "    'dense_units': sp_randint(30, 100),\n",
        "    'batch_size': [32, 64, 128],\n",
        "    'epochs': [5, 10],\n",
        "    'model__learning_rate': [0.01, 0.001]\n",
        "}\n",
        "\n",
        "# Use Random Search as a proxy for the Metaheuristic Optimization\n",
        "random_search_b = RandomizedSearchCV(\n",
        "    estimator=model_wrapper_b,\n",
        "    param_distributions=param_dist,\n",
        "    n_iter=5, # Limited iterations for quick execution\n",
        "    cv=3, # 3-fold cross-validation\n",
        "    verbose=2,\n",
        "    random_state=42,\n",
        ")\n",
        "\n",
        "print(\"\\nStarting 5-iteration Random Search for Dataset B...\")\n",
        "\n",
        "random_search_b.fit(X_b_train, y_b_train)\n",
        "\n",
        "print(\"\\n--- Hybrid Model Evaluation (Optimized CNN) on KDD Cup 1999 ---\")\n",
        "print(\"Best Parameters found:\")\n",
        "print(random_search_b.best_params_)\n",
        "\n",
        "\n",
        "best_model_b = random_search_b.best_estimator_.model_\n",
        "loss_opt_b, accuracy_opt_b = best_model_b.evaluate(X_b_test_cnn, y_b_test, verbose=0)\n",
        "\n",
        "print(f\"\\nOptimized CNN (Hybrid) Accuracy on KDD Cup 1999: {accuracy_opt_b:.4f}\")\n",
        "\n",
        "\n",
        "y_b_pred_opt = (best_model_b.predict(X_b_test_cnn) > 0.5).astype(\"int32\")\n",
        "print(\"\\nOptimized CNN (Hybrid) Classification Report:\")\n",
        "print(classification_report(y_b_test, y_b_pred_opt, zero_division=0))"
      ],
      "metadata": {
        "colab": {
          "base_uri": "https://localhost:8080/"
        },
        "id": "B-FkVQvpA0dU",
        "outputId": "8d6ea8c7-e777-4449-e8c4-12b7442e007d"
      },
      "execution_count": null,
      "outputs": [
        {
          "output_type": "stream",
          "name": "stdout",
          "text": [
            "\n",
            "--- Setting up Hybrid Model (CNN + Optimization Proxy) on Dataset B (KDD Cup 1999) ---\n",
            "\n",
            "Starting 5-iteration Random Search for Dataset B...\n",
            "Fitting 3 folds for each of 5 candidates, totalling 15 fits\n"
          ]
        },
        {
          "output_type": "stream",
          "name": "stderr",
          "text": [
            "/usr/local/lib/python3.12/dist-packages/keras/src/layers/convolutional/base_conv.py:113: UserWarning: Do not pass an `input_shape`/`input_dim` argument to a layer. When using Sequential models, prefer using an `Input(shape)` object as the first layer in the model instead.\n",
            "  super().__init__(activity_regularizer=activity_regularizer, **kwargs)\n"
          ]
        },
        {
          "output_type": "stream",
          "name": "stdout",
          "text": [
            "[CV] END batch_size=128, dense_units=81, epochs=5, filters=30, model__learning_rate=0.01; total time=  22.8s\n"
          ]
        },
        {
          "output_type": "stream",
          "name": "stderr",
          "text": [
            "/usr/local/lib/python3.12/dist-packages/keras/src/layers/convolutional/base_conv.py:113: UserWarning: Do not pass an `input_shape`/`input_dim` argument to a layer. When using Sequential models, prefer using an `Input(shape)` object as the first layer in the model instead.\n",
            "  super().__init__(activity_regularizer=activity_regularizer, **kwargs)\n"
          ]
        },
        {
          "output_type": "stream",
          "name": "stdout",
          "text": [
            "[CV] END batch_size=128, dense_units=81, epochs=5, filters=30, model__learning_rate=0.01; total time=  20.8s\n"
          ]
        },
        {
          "output_type": "stream",
          "name": "stderr",
          "text": [
            "/usr/local/lib/python3.12/dist-packages/keras/src/layers/convolutional/base_conv.py:113: UserWarning: Do not pass an `input_shape`/`input_dim` argument to a layer. When using Sequential models, prefer using an `Input(shape)` object as the first layer in the model instead.\n",
            "  super().__init__(activity_regularizer=activity_regularizer, **kwargs)\n"
          ]
        },
        {
          "output_type": "stream",
          "name": "stdout",
          "text": [
            "[CV] END batch_size=128, dense_units=81, epochs=5, filters=30, model__learning_rate=0.01; total time=  21.9s\n"
          ]
        },
        {
          "output_type": "stream",
          "name": "stderr",
          "text": [
            "/usr/local/lib/python3.12/dist-packages/keras/src/layers/convolutional/base_conv.py:113: UserWarning: Do not pass an `input_shape`/`input_dim` argument to a layer. When using Sequential models, prefer using an `Input(shape)` object as the first layer in the model instead.\n",
            "  super().__init__(activity_regularizer=activity_regularizer, **kwargs)\n"
          ]
        },
        {
          "output_type": "stream",
          "name": "stdout",
          "text": [
            "[CV] END batch_size=32, dense_units=50, epochs=5, filters=34, model__learning_rate=0.01; total time=  43.7s\n"
          ]
        },
        {
          "output_type": "stream",
          "name": "stderr",
          "text": [
            "/usr/local/lib/python3.12/dist-packages/keras/src/layers/convolutional/base_conv.py:113: UserWarning: Do not pass an `input_shape`/`input_dim` argument to a layer. When using Sequential models, prefer using an `Input(shape)` object as the first layer in the model instead.\n",
            "  super().__init__(activity_regularizer=activity_regularizer, **kwargs)\n"
          ]
        },
        {
          "output_type": "stream",
          "name": "stdout",
          "text": [
            "[CV] END batch_size=32, dense_units=50, epochs=5, filters=34, model__learning_rate=0.01; total time=  42.6s\n"
          ]
        },
        {
          "output_type": "stream",
          "name": "stderr",
          "text": [
            "/usr/local/lib/python3.12/dist-packages/keras/src/layers/convolutional/base_conv.py:113: UserWarning: Do not pass an `input_shape`/`input_dim` argument to a layer. When using Sequential models, prefer using an `Input(shape)` object as the first layer in the model instead.\n",
            "  super().__init__(activity_regularizer=activity_regularizer, **kwargs)\n"
          ]
        },
        {
          "output_type": "stream",
          "name": "stdout",
          "text": [
            "[CV] END batch_size=32, dense_units=50, epochs=5, filters=34, model__learning_rate=0.01; total time=  48.5s\n"
          ]
        },
        {
          "output_type": "stream",
          "name": "stderr",
          "text": [
            "/usr/local/lib/python3.12/dist-packages/keras/src/layers/convolutional/base_conv.py:113: UserWarning: Do not pass an `input_shape`/`input_dim` argument to a layer. When using Sequential models, prefer using an `Input(shape)` object as the first layer in the model instead.\n",
            "  super().__init__(activity_regularizer=activity_regularizer, **kwargs)\n"
          ]
        },
        {
          "output_type": "stream",
          "name": "stdout",
          "text": [
            "[CV] END batch_size=128, dense_units=53, epochs=5, filters=37, model__learning_rate=0.01; total time=  22.7s\n"
          ]
        },
        {
          "output_type": "stream",
          "name": "stderr",
          "text": [
            "/usr/local/lib/python3.12/dist-packages/keras/src/layers/convolutional/base_conv.py:113: UserWarning: Do not pass an `input_shape`/`input_dim` argument to a layer. When using Sequential models, prefer using an `Input(shape)` object as the first layer in the model instead.\n",
            "  super().__init__(activity_regularizer=activity_regularizer, **kwargs)\n"
          ]
        },
        {
          "output_type": "stream",
          "name": "stdout",
          "text": [
            "[CV] END batch_size=128, dense_units=53, epochs=5, filters=37, model__learning_rate=0.01; total time=  21.6s\n"
          ]
        },
        {
          "output_type": "stream",
          "name": "stderr",
          "text": [
            "/usr/local/lib/python3.12/dist-packages/keras/src/layers/convolutional/base_conv.py:113: UserWarning: Do not pass an `input_shape`/`input_dim` argument to a layer. When using Sequential models, prefer using an `Input(shape)` object as the first layer in the model instead.\n",
            "  super().__init__(activity_regularizer=activity_regularizer, **kwargs)\n"
          ]
        },
        {
          "output_type": "stream",
          "name": "stdout",
          "text": [
            "[CV] END batch_size=128, dense_units=53, epochs=5, filters=37, model__learning_rate=0.01; total time=  25.3s\n"
          ]
        },
        {
          "output_type": "stream",
          "name": "stderr",
          "text": [
            "/usr/local/lib/python3.12/dist-packages/keras/src/layers/convolutional/base_conv.py:113: UserWarning: Do not pass an `input_shape`/`input_dim` argument to a layer. When using Sequential models, prefer using an `Input(shape)` object as the first layer in the model instead.\n",
            "  super().__init__(activity_regularizer=activity_regularizer, **kwargs)\n"
          ]
        },
        {
          "output_type": "stream",
          "name": "stdout",
          "text": [
            "[CV] END batch_size=64, dense_units=59, epochs=10, filters=17, model__learning_rate=0.001; total time=  46.9s\n"
          ]
        },
        {
          "output_type": "stream",
          "name": "stderr",
          "text": [
            "/usr/local/lib/python3.12/dist-packages/keras/src/layers/convolutional/base_conv.py:113: UserWarning: Do not pass an `input_shape`/`input_dim` argument to a layer. When using Sequential models, prefer using an `Input(shape)` object as the first layer in the model instead.\n",
            "  super().__init__(activity_regularizer=activity_regularizer, **kwargs)\n"
          ]
        },
        {
          "output_type": "stream",
          "name": "stdout",
          "text": [
            "[CV] END batch_size=64, dense_units=59, epochs=10, filters=17, model__learning_rate=0.001; total time=  46.5s\n"
          ]
        },
        {
          "output_type": "stream",
          "name": "stderr",
          "text": [
            "/usr/local/lib/python3.12/dist-packages/keras/src/layers/convolutional/base_conv.py:113: UserWarning: Do not pass an `input_shape`/`input_dim` argument to a layer. When using Sequential models, prefer using an `Input(shape)` object as the first layer in the model instead.\n",
            "  super().__init__(activity_regularizer=activity_regularizer, **kwargs)\n"
          ]
        },
        {
          "output_type": "stream",
          "name": "stdout",
          "text": [
            "[CV] END batch_size=64, dense_units=59, epochs=10, filters=17, model__learning_rate=0.001; total time=  47.7s\n"
          ]
        },
        {
          "output_type": "stream",
          "name": "stderr",
          "text": [
            "/usr/local/lib/python3.12/dist-packages/keras/src/layers/convolutional/base_conv.py:113: UserWarning: Do not pass an `input_shape`/`input_dim` argument to a layer. When using Sequential models, prefer using an `Input(shape)` object as the first layer in the model instead.\n",
            "  super().__init__(activity_regularizer=activity_regularizer, **kwargs)\n"
          ]
        },
        {
          "output_type": "stream",
          "name": "stdout",
          "text": [
            "[CV] END batch_size=32, dense_units=62, epochs=10, filters=37, model__learning_rate=0.01; total time= 1.5min\n"
          ]
        },
        {
          "output_type": "stream",
          "name": "stderr",
          "text": [
            "/usr/local/lib/python3.12/dist-packages/keras/src/layers/convolutional/base_conv.py:113: UserWarning: Do not pass an `input_shape`/`input_dim` argument to a layer. When using Sequential models, prefer using an `Input(shape)` object as the first layer in the model instead.\n",
            "  super().__init__(activity_regularizer=activity_regularizer, **kwargs)\n"
          ]
        },
        {
          "output_type": "stream",
          "name": "stdout",
          "text": [
            "[CV] END batch_size=32, dense_units=62, epochs=10, filters=37, model__learning_rate=0.01; total time= 1.5min\n"
          ]
        },
        {
          "output_type": "stream",
          "name": "stderr",
          "text": [
            "/usr/local/lib/python3.12/dist-packages/keras/src/layers/convolutional/base_conv.py:113: UserWarning: Do not pass an `input_shape`/`input_dim` argument to a layer. When using Sequential models, prefer using an `Input(shape)` object as the first layer in the model instead.\n",
            "  super().__init__(activity_regularizer=activity_regularizer, **kwargs)\n"
          ]
        },
        {
          "output_type": "stream",
          "name": "stdout",
          "text": [
            "[CV] END batch_size=32, dense_units=62, epochs=10, filters=37, model__learning_rate=0.01; total time= 1.5min\n"
          ]
        },
        {
          "output_type": "stream",
          "name": "stderr",
          "text": [
            "/usr/local/lib/python3.12/dist-packages/keras/src/layers/convolutional/base_conv.py:113: UserWarning: Do not pass an `input_shape`/`input_dim` argument to a layer. When using Sequential models, prefer using an `Input(shape)` object as the first layer in the model instead.\n",
            "  super().__init__(activity_regularizer=activity_regularizer, **kwargs)\n"
          ]
        },
        {
          "output_type": "stream",
          "name": "stdout",
          "text": [
            "\n",
            "--- Hybrid Model Evaluation (Optimized CNN) on KDD Cup 1999 ---\n",
            "Best Parameters found:\n",
            "{'batch_size': 64, 'dense_units': 59, 'epochs': 10, 'filters': 17, 'model__learning_rate': 0.001}\n",
            "\n",
            "Optimized CNN (Hybrid) Accuracy on KDD Cup 1999: 0.9973\n",
            "\u001b[1m1365/1365\u001b[0m \u001b[32m━━━━━━━━━━━━━━━━━━━━\u001b[0m\u001b[37m\u001b[0m \u001b[1m2s\u001b[0m 1ms/step\n",
            "\n",
            "Optimized CNN (Hybrid) Classification Report:\n",
            "              precision    recall  f1-score   support\n",
            "\n",
            "           0       1.00      1.00      1.00     26350\n",
            "           1       1.00      1.00      1.00     17326\n",
            "\n",
            "    accuracy                           1.00     43676\n",
            "   macro avg       1.00      1.00      1.00     43676\n",
            "weighted avg       1.00      1.00      1.00     43676\n",
            "\n"
          ]
        }
      ]
    },
    {
      "cell_type": "code",
      "source": [
        "import matplotlib.pyplot as plt\n",
        "import pandas as pd\n",
        "import numpy as np\n",
        "\n",
        "# Final Results Summary (Updated with KDD Hybrid results)\n",
        "results = {\n",
        "    'Model': [\n",
        "        'RF (UNSW)', 'CNN (UNSW)', 'Hybrid (UNSW)',\n",
        "        'RF (KDD)', 'CNN (KDD)', 'Hybrid (KDD)'\n",
        "    ],\n",
        "    'Dataset': [\n",
        "        'UNSW-NB15', 'UNSW-NB15', 'UNSW-NB15',\n",
        "        'KDD Cup 1999', 'KDD Cup 1999', 'KDD Cup 1999'\n",
        "    ],\n",
        "    'Accuracy': [0.9984, 0.9855, 0.9951, 0.9995, 0.9973, 0.9973],\n",
        "    'F1_Score': [1.00, 0.99, 1.00, 1.00, 1.00, 1.00]\n",
        "}\n",
        "\n",
        "df_results = pd.DataFrame(results)\n",
        "\n",
        "\n",
        "labels = df_results['Model']\n",
        "\n",
        "performance_metric = df_results['Accuracy']\n",
        "\n",
        "x = np.arange(len(labels))\n",
        "width = 0.6\n",
        "\n",
        "fig, ax = plt.subplots(figsize=(12, 6))\n",
        "\n",
        "colors = ['#1f77b4', '#ff7f0e', '#2ca02c', '#1f77b4', '#ff7f0e', '#2ca02c']\n",
        "rects = ax.bar(x, performance_metric, width, color=colors)\n",
        "\n",
        "\n",
        "ax.set_ylabel('Accuracy Score')\n",
        "ax.set_title('Model Performance Comparison (Accuracy) Across Datasets')\n",
        "ax.set_xticks(x)\n",
        "ax.set_xticklabels(labels, rotation=45, ha=\"right\")\n",
        "ax.set_ylim(0.98, 1.005) # Zoom in to highlight differences\n",
        "ax.grid(axis='y', linestyle='--', alpha=0.7)\n",
        "\n",
        "\n",
        "def autolabel(rects):\n",
        "    for rect in rects:\n",
        "        height = rect.get_height()\n",
        "        ax.annotate(f'{height:.4f}',\n",
        "                    xy=(rect.get_x() + rect.get_width() / 2, height),\n",
        "                    xytext=(0, 3),  # 3 points vertical offset\n",
        "                    textcoords=\"offset points\",\n",
        "                    ha='center', va='bottom')\n",
        "\n",
        "autolabel(rects)\n",
        "\n",
        "plt.tight_layout()\n",
        "plt.show()"
      ],
      "metadata": {
        "colab": {
          "base_uri": "https://localhost:8080/",
          "height": 607
        },
        "id": "AKLy8aXlEIyu",
        "outputId": "19205727-2ab1-417b-faf3-1dbe60e96b3b"
      },
      "execution_count": null,
      "outputs": [
        {
          "output_type": "display_data",
          "data": {
            "text/plain": [
              "<Figure size 1200x600 with 1 Axes>"
            ],
            "image/png": "[encoded data removed]"
          },
          "metadata": {}
        }
      ]
    },
    {
      "cell_type": "code",
      "source": [
        "18^"
      ],
      "metadata": {
        "id": "4q0nvqOxuavo"
      },
      "execution_count": null,
      "outputs": []
    },
    {
      "cell_type": "code",
      "source": [
        "from sklearn.metrics import confusion_matrix\n",
        "import pandas as pd\n",
        "import numpy as np\n",
        "from sklearn.metrics import accuracy_score, classification_report\n",
        "from tensorflow.keras.models import Sequential\n",
        "from tensorflow.keras.layers import Conv1D, MaxPooling1D, Flatten, Dense\n",
        "\n",
        "print(\"--- Calculating False Positive Rate (FPR) for all Models ---\")\n",
        "\n",
        "# --- Function to calculate FPR ---\n",
        "def calculate_fpr(y_true, y_pred):\n",
        "    \"\"\"Calculates FPR from true labels and predictions.\"\"\"\n",
        "    tn, fp, fn, tp = confusion_matrix(y_true, y_pred, labels=[0, 1]).ravel()\n",
        "    # FPR = FP / (FP + TN)\n",
        "    fpr = fp / (fp + tn)\n",
        "    return fpr\n",
        "\n",
        "\n",
        "# 1. Random Forest Predictions (Assuming models are still in memory from re-run)\n",
        "from sklearn.ensemble import RandomForestClassifier\n",
        "# Re-train RF models quickly to ensure the objects exist\n",
        "rf_model_a = RandomForestClassifier(n_estimators=100, random_state=42, n_jobs=-1).fit(X_a_train, y_a_train)\n",
        "y_a_pred_rf = rf_model_a.predict(X_a_test)\n",
        "\n",
        "rf_model_b = RandomForestClassifier(n_estimators=100, random_state=42, n_jobs=-1).fit(X_b_train, y_b_train)\n",
        "y_b_pred_rf = rf_model_b.predict(X_b_test)\n",
        "\n",
        "# 2. Base CNN Predictions\n",
        "\n",
        "\n",
        "# 3. Optimized CNN (Hybrid) Predictions\n",
        "# For A: X_a_pred_opt was created in the last step\n",
        "best_model_a = random_search.best_estimator_.model_\n",
        "y_a_pred_opt = (best_model_a.predict(X_a_test_cnn) > 0.5).astype(\"int32\")\n",
        "\n",
        "# For B: X_b_pred_opt was created in the last step\n",
        "best_model_b = random_search_b.best_estimator_.model_\n",
        "y_b_pred_opt = (best_model_b.predict(X_b_test_cnn) > 0.5).astype(\"int32\")\n",
        "\n",
        "\n",
        "# --- Calculate FPR ---\n",
        "fpr_results = {\n",
        "    'Model': ['Random Forest (UNSW)', 'Hybrid CNN (UNSW)', 'Random Forest (KDD)', 'Hybrid CNN (KDD)'],\n",
        "    'FPR': [\n",
        "        calculate_fpr(y_a_test, y_a_pred_rf),\n",
        "        calculate_fpr(y_a_test, y_a_pred_opt),\n",
        "        calculate_fpr(y_b_test, y_b_pred_rf),\n",
        "        calculate_fpr(y_b_test, y_b_pred_opt)\n",
        "    ]\n",
        "}\n",
        "\n",
        "df_fpr = pd.DataFrame(fpr_results)\n",
        "print(\"\\nFalse Positive Rate (FPR) Summary:\")\n",
        "print(df_fpr.to_string(index=False))\n",
        "\n",
        "print(\"\\n--- ✅ Step 3 Complete! ---\")"
      ],
      "metadata": {
        "colab": {
          "base_uri": "https://localhost:8080/"
        },
        "id": "vLaKO7aXEtyg",
        "outputId": "c327b255-55ec-4194-8467-d343778805d7"
      },
      "execution_count": null,
      "outputs": [
        {
          "output_type": "stream",
          "name": "stdout",
          "text": [
            "--- Calculating False Positive Rate (FPR) for all Models ---\n",
            "\u001b[1m772/772\u001b[0m \u001b[32m━━━━━━━━━━━━━━━━━━━━\u001b[0m\u001b[37m\u001b[0m \u001b[1m1s\u001b[0m 2ms/step\n",
            "\u001b[1m1365/1365\u001b[0m \u001b[32m━━━━━━━━━━━━━━━━━━━━\u001b[0m\u001b[37m\u001b[0m \u001b[1m2s\u001b[0m 1ms/step\n",
            "\n",
            "False Positive Rate (FPR) Summary:\n",
            "               Model      FPR\n",
            "Random Forest (UNSW) 0.002973\n",
            "   Hybrid CNN (UNSW) 0.006577\n",
            " Random Forest (KDD) 0.000228\n",
            "    Hybrid CNN (KDD) 0.002543\n",
            "\n",
            "--- ✅ Step 3 Complete! ---\n"
          ]
        }
      ]
    },
    {
      "cell_type": "markdown",
      "source": [
        "19^"
      ],
      "metadata": {
        "id": "MQOAtny8tlUg"
      }
    },
    {
      "cell_type": "code",
      "source": [
        "from google.colab import drive\n",
        "drive.mount('/content/drive')"
      ],
      "metadata": {
        "colab": {
          "base_uri": "https://localhost:8080/"
        },
        "id": "XBx2IinNHBqg",
        "outputId": "1e5059f3-50fb-4d04-ed5a-cbe2bfa1b2b4"
      },
      "execution_count": null,
      "outputs": [
        {
          "output_type": "stream",
          "name": "stdout",
          "text": [
            "Mounted at /content/drive\n"
          ]
        }
      ]
    },
    {
      "cell_type": "code",
      "source": [
        "import os\n",
        "import pickle\n",
        "from tensorflow.keras.models import save_model\n",
        "\n",
        "# --- Define Paths ---\n",
        "\n",
        "DRIVE_PATH = '/content/drive/My Drive/IDS_Project_Results/'\n",
        "\n",
        "os.makedirs(DRIVE_PATH, exist_ok=True)\n",
        "\n",
        "# --- Save Models ---\n",
        "\n",
        "# 1. Save Optimized CNN Models (Deep Learning Models)\n",
        "# These models are the result of the longest optimization step (Hybrid)\n",
        "best_model_a = random_search.best_estimator_.model_\n",
        "best_model_a.save(DRIVE_PATH + 'hybrid_cnn_unsw.h5')\n",
        "print(\"✅ Saved Hybrid CNN (UNSW) model.\")\n",
        "\n",
        "best_model_b = random_search_b.best_estimator_.model_\n",
        "best_model_b.save(DRIVE_PATH + 'hybrid_cnn_kdd.h5')\n",
        "print(\"✅ Saved Hybrid CNN (KDD) model.\")\n",
        "\n",
        "# 2. Save Random Forest Models (ML Models)\n",
        "# These models are critical for the comparison\n",
        "# Re-train RF models quickly to ensure the objects exist\n",
        "from sklearn.ensemble import RandomForestClassifier\n",
        "rf_model_a = RandomForestClassifier(n_estimators=100, random_state=42, n_jobs=-1).fit(X_a_train, y_a_train)\n",
        "rf_model_b = RandomForestClassifier(n_estimators=100, random_state=42, n_jobs=-1).fit(X_b_train, y_b_train)\n",
        "\n",
        "with open(DRIVE_PATH + 'rf_model_unsw.pkl', 'wb') as f:\n",
        "    pickle.dump(rf_model_a, f)\n",
        "print(\"✅ Saved Random Forest (UNSW) model.\")\n",
        "\n",
        "with open(DRIVE_PATH + 'rf_model_kdd.pkl', 'wb') as f:\n",
        "    pickle.dump(rf_model_b, f)\n",
        "print(\"✅ Saved Random Forest (KDD) model.\")\n",
        "\n",
        "\n",
        "# --- Save Kaggle Credentials for Future Sessions ---\n",
        "# This saves the hassle of re-uploading the file and re-authenticating (after mounting drive)\n",
        "!cp /root/.kaggle/kaggle.json \"{DRIVE_PATH}kaggle.json\"\n",
        "print(\"✅ kaggle.json saved to Google Drive.\")\n",
        "\n",
        "print(\"\\nAll essential project assets saved! Your data is now persistent.\")"
      ],
      "metadata": {
        "colab": {
          "base_uri": "https://localhost:8080/"
        },
        "id": "StR-wBVtHXYv",
        "outputId": "b17d12c5-3992-4078-b23b-90a24270b4ea"
      },
      "execution_count": null,
      "outputs": [
        {
          "output_type": "stream",
          "name": "stderr",
          "text": [
            "WARNING:absl:You are saving your model as an HDF5 file via `model.save()` or `keras.saving.save_model(model)`. This file format is considered legacy. We recommend using instead the native Keras format, e.g. `model.save('my_model.keras')` or `keras.saving.save_model(model, 'my_model.keras')`. \n",
            "WARNING:absl:You are saving your model as an HDF5 file via `model.save()` or `keras.saving.save_model(model)`. This file format is considered legacy. We recommend using instead the native Keras format, e.g. `model.save('my_model.keras')` or `keras.saving.save_model(model, 'my_model.keras')`. \n"
          ]
        },
        {
          "output_type": "stream",
          "name": "stdout",
          "text": [
            "✅ Saved Hybrid CNN (UNSW) model.\n",
            "✅ Saved Hybrid CNN (KDD) model.\n",
            "✅ Saved Random Forest (UNSW) model.\n",
            "✅ Saved Random Forest (KDD) model.\n",
            "✅ kaggle.json saved to Google Drive.\n",
            "\n",
            "All essential project assets saved! Your data is now persistent.\n"
          ]
        }
      ]
    }
  ]
}