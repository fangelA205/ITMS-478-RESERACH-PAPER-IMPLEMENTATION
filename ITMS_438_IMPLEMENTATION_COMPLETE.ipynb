{
  "nbformat": 4,
  "nbformat_minor": 0,
  "metadata": {
    "colab": {
      "provenance": [],
      "authorship_tag": "ABX9TyO+TiFmXnLJej8q1YeZ+VSU",
      "include_colab_link": true
    },
    "kernelspec": {
      "name": "python3",
      "display_name": "Python 3"
    },
    "language_info": {
      "name": "python"
    }
  },
  "cells": [
    {
      "cell_type": "markdown",
      "metadata": {
        "id": "view-in-github",
        "colab_type": "text"
      },
      "source": [
        "<a href=\"https://colab.research.google.com/github/fangelA205/ITMS-478-RESERACH-PAPER-IMPLEMENTATION/blob/main/ITMS_438_IMPLEMENTATION_COMPLETE.ipynb\" target=\"_parent\"><img src=\"https://colab.research.google.com/assets/colab-badge.svg\" alt=\"Open In Colab\"/></a>"
      ]
    },
    {
      "cell_type": "code",
      "execution_count": 1,
      "metadata": {
        "colab": {
          "base_uri": "https://localhost:8080/"
        },
        "id": "_sRg0bmah8zM",
        "outputId": "fd8d4432-839a-4934-f0a5-981215c05c4f"
      },
      "outputs": [
        {
          "output_type": "stream",
          "name": "stdout",
          "text": [
            "Output directory created at: /content/iiot_dataset\n"
          ]
        }
      ],
      "source": [
        "import os\n",
        "import json\n",
        "import time\n",
        "import uuid\n",
        "import random\n",
        "import datetime\n",
        "import numpy as np\n",
        "import pandas as pd\n",
        "from sklearn.model_selection import train_test_split\n",
        "from sklearn.preprocessing import StandardScaler, LabelEncoder\n",
        "from sklearn.ensemble import RandomForestClassifier\n",
        "from sklearn.metrics import accuracy_score, precision_score, recall_score, f1_score, confusion_matrix\n",
        "import matplotlib.pyplot as plt\n",
        "import seaborn as sns\n",
        "from collections import defaultdict\n",
        "\n",
        "# TensorFlow/Keras imports for LSTM\n",
        "from tensorflow.keras.models import Sequential\n",
        "from tensorflow.keras.layers import LSTM, Dense\n",
        "from tensorflow.keras.utils import to_categorical\n",
        "from tensorflow.keras.callbacks import EarlyStopping\n",
        "\n",
        "# Environment Setup\n",
        "OUTPUT_DIR = '/content/iiot_dataset'\n",
        "os.makedirs(OUTPUT_DIR, exist_ok=True)\n",
        "print(f\"Output directory created at: {OUTPUT_DIR}\")\n",
        "\n",
        "# Device and Topic Configuration\n",
        "DEVICE_IDS = ['sensor_temp_01', 'sensor_vib_02', 'sensor_press_03', 'hmi_disp_04']\n",
        "TOPICS = {\n",
        "    'sensor_temp_01': 'iiot/telemetry/temp',\n",
        "    'sensor_vib_02': 'iiot/telemetry/vib',\n",
        "    'sensor_press_03': 'iiot/telemetry/press',\n",
        "    'hmi_disp_04': 'iiot/control/status'\n",
        "}"
      ]
    },
    {
      "cell_type": "code",
      "source": [
        "def generate_telemetry_event(device_id, current_time):\n",
        "    \"\"\"Generates a single, normal IIoT telemetry event.\"\"\"\n",
        "    topic = TOPICS[device_id]\n",
        "\n",
        "    # Simulate realistic sensor readings\n",
        "    if 'temp' in device_id:\n",
        "        value = random.uniform(20.0, 30.0)\n",
        "        payload = {'temperature_c': round(value, 2)}\n",
        "    elif 'vib' in device_id:\n",
        "        value = random.uniform(0.1, 1.5)\n",
        "        payload = {'vibration_level': round(value, 2)}\n",
        "    elif 'press' in device_id:\n",
        "        value = random.uniform(90.0, 110.0)\n",
        "        payload = {'pressure_kPa': round(value, 2)}\n",
        "    else: # HMI device (simulating control/status messages)\n",
        "        status = random.choice(['OK', 'WARNING'])\n",
        "        payload = {'status': status}\n",
        "\n",
        "    timestamp_epoch = int(current_time * 1000) # milliseconds\n",
        "    timestamp_iso = datetime.datetime.fromtimestamp(current_time).isoformat()\n",
        "\n",
        "    event = {\n",
        "        'timestamp_epoch': timestamp_epoch,\n",
        "        'timestamp_iso': timestamp_iso,\n",
        "        'device_id': device_id,\n",
        "        'topic': topic,\n",
        "        'payload': payload,\n",
        "        'message_size_bytes': random.randint(50, 200),\n",
        "        'message_id': str(uuid.uuid4())\n",
        "    }\n",
        "    return event\n",
        "\n",
        "def save_events_to_jsonl(filename, events):\n",
        "    \"\"\"Saves a list of events to a JSON Lines file.\"\"\"\n",
        "    filepath = os.path.join(OUTPUT_DIR, filename)\n",
        "    with open(filepath, 'w') as f:\n",
        "        for event in events:\n",
        "            f.write(json.dumps(event) + '\\n')\n",
        "    print(f\"Saved {len(events)} events to {filename}\")\n",
        "\n",
        "def load_events_from_jsonl(filename):\n",
        "    \"\"\"Loads events from a JSON Lines file.\"\"\"\n",
        "    filepath = os.path.join(OUTPUT_DIR, filename)\n",
        "    events = []\n",
        "    with open(filepath, 'r') as f:\n",
        "        for line in f:\n",
        "            events.append(json.loads(line))\n",
        "    return events"
      ],
      "metadata": {
        "id": "B8LwNxN6jRHD"
      },
      "execution_count": 3,
      "outputs": []
    },
    {
      "cell_type": "code",
      "source": [
        "# --- Configuration for Simulation ---\n",
        "SIM_DURATION_SECONDS = 3600 # 1 hour\n",
        "NORMAL_EVENTS_PER_SECOND = 0.5 # About 1 event every 2 seconds per device\n",
        "\n",
        "# Attack 1: Flood\n",
        "FLOOD_START = 1000\n",
        "FLOOD_DURATION = 60\n",
        "FLOOD_RATE = 50\n",
        "\n",
        "# Attack 2: Replay\n",
        "REPLAY_START = FLOOD_START + FLOOD_DURATION + 10 # Start 10s after Flood ends\n",
        "REPLAY_DURATION = 60\n",
        "REPLAY_INTERVAL = 5\n",
        "\n",
        "# Attack 3: Data Injection (New)\n",
        "DATA_INJECTION_START = REPLAY_START + REPLAY_DURATION + 10 # Start 10s after Replay ends\n",
        "DATA_INJECTION_DURATION = 60\n",
        "DATA_INJECTION_VALUE = 35.0 # Fixed, subtly high temp (Normal is 20-30)\n",
        "\n",
        "# Store all generated events and attack labels\n",
        "all_events = []\n",
        "attack_labels = []\n",
        "\n",
        "# --- 1. Generate Normal Events (and store a small sample for replay) ---\n",
        "normal_events = []\n",
        "replay_sample_events = []\n",
        "current_time = 0.0\n",
        "\n",
        "print(\"Generating normal traffic...\")\n",
        "while current_time < SIM_DURATION_SECONDS:\n",
        "    # Normal traffic generation for all devices\n",
        "    for device_id in DEVICE_IDS:\n",
        "        if random.random() < NORMAL_EVENTS_PER_SECOND:\n",
        "            event = generate_telemetry_event(device_id, current_time)\n",
        "            normal_events.append(event)\n",
        "            # Store a few early events for the Replay Attack\n",
        "            if current_time < FLOOD_START / 2 and len(replay_sample_events) < 5:\n",
        "                # Deep copy to ensure original payload is preserved\n",
        "                replay_sample_events.append(json.loads(json.dumps(event)))\n",
        "\n",
        "    current_time += random.uniform(0.1, 0.5) # Time step increase\n",
        "\n",
        "print(f\"Generated {len(normal_events)} normal events.\")\n",
        "\n",
        "# --- 2. Inject Flood Attack ---\n",
        "flood_events = []\n",
        "flood_device = DEVICE_IDS[0]\n",
        "\n",
        "print(f\"Injecting Flood Attack from {FLOOD_START}s to {FLOOD_START + FLOOD_DURATION}s on {flood_device}...\")\n",
        "t = FLOOD_START\n",
        "while t < FLOOD_START + FLOOD_DURATION:\n",
        "    for _ in range(FLOOD_RATE):\n",
        "        event = generate_telemetry_event(flood_device, t + random.uniform(0, 1 / FLOOD_RATE))\n",
        "        event['label'] = 'Flood'\n",
        "        flood_events.append(event)\n",
        "    t += 1\n",
        "\n",
        "attack_labels.append({'type': 'Flood', 'start_time': datetime.datetime.fromtimestamp(FLOOD_START).isoformat(),\n",
        "                      'end_time': datetime.datetime.fromtimestamp(FLOOD_START + FLOOD_DURATION).isoformat(), 'device': flood_device})\n",
        "\n",
        "\n",
        "# --- 3. Inject Replay Attack ---\n",
        "replay_events = []\n",
        "replay_device = DEVICE_IDS[1]\n",
        "\n",
        "print(f\"Injecting Replay Attack from {REPLAY_START}s to {REPLAY_START + REPLAY_DURATION}s on {replay_device}...\")\n",
        "current_replay_time = REPLAY_START\n",
        "while current_replay_time < REPLAY_START + REPLAY_DURATION:\n",
        "    for old_event in replay_sample_events:\n",
        "        replayed_event = json.loads(json.dumps(old_event))\n",
        "        replayed_event['timestamp_epoch'] = int(current_replay_time * 1000)\n",
        "        replayed_event['timestamp_iso'] = datetime.datetime.fromtimestamp(current_replay_time).isoformat()\n",
        "        replayed_event['device_id'] = replay_device\n",
        "        replayed_event['topic'] = TOPICS[replay_device]\n",
        "        replayed_event['label'] = 'Replay'\n",
        "        replay_events.append(replayed_event)\n",
        "\n",
        "    current_replay_time += REPLAY_INTERVAL + random.uniform(-1, 1)\n",
        "\n",
        "attack_labels.append({'type': 'Replay', 'start_time': datetime.datetime.fromtimestamp(REPLAY_START).isoformat(),\n",
        "                      'end_time': datetime.datetime.fromtimestamp(REPLAY_START + REPLAY_DURATION).isoformat(), 'device': replay_device})\n",
        "\n",
        "\n",
        "# --- 4. Inject Data Injection Attack (NEW) ---\n",
        "injection_events = []\n",
        "injection_device = 'sensor_temp_01'\n",
        "\n",
        "print(f\"Injecting Data Injection Attack from {DATA_INJECTION_START}s to {DATA_INJECTION_START + DATA_INJECTION_DURATION}s on {injection_device}...\")\n",
        "\n",
        "# Use the normal generation logic to ensure the event rate looks normal\n",
        "t_inject = DATA_INJECTION_START\n",
        "while t_inject < DATA_INJECTION_START + DATA_INJECTION_DURATION:\n",
        "    if random.random() < NORMAL_EVENTS_PER_SECOND:\n",
        "        event = generate_telemetry_event(injection_device, t_inject)\n",
        "\n",
        "        # Inject the anomalous payload value\n",
        "        event['payload']['temperature_c'] = DATA_INJECTION_VALUE\n",
        "        event['label'] = 'Data_Injection'\n",
        "\n",
        "        injection_events.append(event)\n",
        "    t_inject += random.uniform(0.1, 0.5)\n",
        "\n",
        "attack_labels.append({'type': 'Data_Injection', 'start_time': datetime.datetime.fromtimestamp(DATA_INJECTION_START).isoformat(),\n",
        "                      'end_time': datetime.datetime.fromtimestamp(DATA_INJECTION_START + DATA_INJECTION_DURATION).isoformat(), 'device': injection_device})\n",
        "\n",
        "\n",
        "# --- 5. Combine and Save Files ---\n",
        "all_events = normal_events + flood_events + replay_events + injection_events # ADD INJECTION EVENTS\n",
        "all_events.sort(key=lambda x: x['timestamp_epoch'])\n",
        "\n",
        "# Separate normal events for 'events_normal.jsonl'\n",
        "events_normal_only = [e for e in all_events if 'label' not in e]\n",
        "save_events_to_jsonl('events_normal.jsonl', events_normal_only)\n",
        "\n",
        "# All events for 'events_full.jsonl'\n",
        "for event in all_events:\n",
        "    if 'label' not in event:\n",
        "        event['label'] = 'Normal'\n",
        "save_events_to_jsonl('events_full.jsonl', all_events)\n",
        "\n",
        "# Save Labels\n",
        "with open(os.path.join(OUTPUT_DIR, 'labels.json'), 'w') as f:\n",
        "    json.dump(attack_labels, f, indent=4)\n",
        "print(f\"Saved {len(attack_labels)} attack labels to labels.json\")"
      ],
      "metadata": {
        "colab": {
          "base_uri": "https://localhost:8080/"
        },
        "id": "wT5kkUjEqejc",
        "outputId": "1a406c2c-0461-4a2c-8d38-68fce5a5187b"
      },
      "execution_count": 11,
      "outputs": [
        {
          "output_type": "stream",
          "name": "stdout",
          "text": [
            "Generating normal traffic...\n",
            "Generated 24223 normal events.\n",
            "Injecting Flood Attack from 1000s to 1060s on sensor_temp_01...\n",
            "Injecting Replay Attack from 1070s to 1130s on sensor_vib_02...\n",
            "Injecting Data Injection Attack from 1140s to 1200s on sensor_temp_01...\n",
            "Saved 24223 events to events_normal.jsonl\n",
            "Saved 27403 events to events_full.jsonl\n",
            "Saved 3 attack labels to labels.json\n"
          ]
        }
      ]
    },
    {
      "cell_type": "code",
      "source": [
        "FLOW_WINDOW_SECONDS = 5 # Aggregate events into 5-second flow windows\n",
        "\n",
        "events = load_events_from_jsonl('events_full.jsonl')\n",
        "df_events = pd.DataFrame(events)\n",
        "\n",
        "# Extract packet length (for simplicity, using the 'message_size_bytes' field)\n",
        "df_events['packet_len'] = df_events['message_size_bytes']\n",
        "\n",
        "# Ensure 'label' column is present\n",
        "if 'label' not in df_events.columns:\n",
        "    df_events['label'] = 'Normal'\n",
        "\n",
        "# Convert epoch time to datetime and set as index\n",
        "df_events['timestamp'] = pd.to_datetime(df_events['timestamp_epoch'], unit='ms')\n",
        "\n",
        "# --- 1. Aggregation Logic ---\n",
        "print(\"Aggregating events into flow windows...\")\n",
        "\n",
        "# Define a time window index (e.g., 5-second intervals)\n",
        "df_events['flow_window'] = df_events['timestamp'].dt.to_period(f'{FLOW_WINDOW_SECONDS}S')\n",
        "df_events['duration_ms'] = FLOW_WINDOW_SECONDS * 1000 # Flow duration is constant\n",
        "\n",
        "def aggregate_flow(group):\n",
        "    \"\"\"Calculates flow features for a single device/window group.\"\"\"\n",
        "    # Start and End Time\n",
        "    start_time = group['timestamp_epoch'].min()\n",
        "    end_time = group['timestamp_epoch'].max()\n",
        "\n",
        "    # Packet counts and bytes\n",
        "    num_packets = len(group)\n",
        "    total_bytes = group['packet_len'].sum()\n",
        "\n",
        "    # Mean Interarrival Time (IAT)\n",
        "    timestamps = group['timestamp_epoch'].sort_values()\n",
        "    interarrival_times = timestamps.diff().dropna()\n",
        "    interarrival_mean_ms = interarrival_times.mean() if not interarrival_times.empty else 0\n",
        "\n",
        "    # Features\n",
        "    features = {\n",
        "        'start_time_ms': start_time,\n",
        "        'end_time_ms': end_time,\n",
        "        'duration_ms': FLOW_WINDOW_SECONDS * 1000,\n",
        "        'num_packets': num_packets,\n",
        "        'total_bytes': total_bytes,\n",
        "        'mean_pkt_len': group['packet_len'].mean(),\n",
        "        'interarrival_mean_ms': interarrival_mean_ms,\n",
        "        'label': group['label'].mode()[0] if not group['label'].mode().empty else 'Normal'\n",
        "    }\n",
        "\n",
        "    # Derived Metric\n",
        "    features['pps'] = num_packets / (FLOW_WINDOW_SECONDS + 1e-6) # packets per second\n",
        "\n",
        "    return pd.Series(features)\n",
        "\n",
        "# Group by flow window and device, then apply aggregation\n",
        "flow_df = df_events.groupby(['flow_window', 'device_id']).apply(aggregate_flow).reset_index()\n",
        "\n",
        "# Rename the categorical columns\n",
        "flow_df = flow_df.rename(columns={'flow_window': 'timestamp_window', 'device_id': 'device'})\n",
        "\n",
        "# --- 2. Remove null/malformed entries and Fill NaNs ---\n",
        "flow_df.replace([np.inf, -np.inf], np.nan, inplace=True)\n",
        "# Fill remaining NaNs (e.g., mean_pkt_len for 0 packet flows) with 0\n",
        "flow_df.fillna(0, inplace=True)\n",
        "\n",
        "# Save the raw flow dataset\n",
        "flow_df.to_csv(os.path.join(OUTPUT_DIR, 'dataset_flows.csv'), index=False)\n",
        "print(f\"\\nSaved raw aggregated flows (Rows: {len(flow_df)}) to dataset_flows.csv\")"
      ],
      "metadata": {
        "colab": {
          "base_uri": "https://localhost:8080/"
        },
        "id": "saTg4F2Lje08",
        "outputId": "a663b8e3-9e84-499b-e2ab-7f59dba92534"
      },
      "execution_count": 12,
      "outputs": [
        {
          "output_type": "stream",
          "name": "stdout",
          "text": [
            "Aggregating events into flow windows...\n"
          ]
        },
        {
          "output_type": "stream",
          "name": "stderr",
          "text": [
            "/tmp/ipython-input-1026841043.py:20: FutureWarning: 'S' is deprecated and will be removed in a future version, please use 's' instead.\n",
            "  df_events['flow_window'] = df_events['timestamp'].dt.to_period(f'{FLOW_WINDOW_SECONDS}S')\n"
          ]
        },
        {
          "output_type": "stream",
          "name": "stdout",
          "text": [
            "\n",
            "Saved raw aggregated flows (Rows: 12792) to dataset_flows.csv\n"
          ]
        },
        {
          "output_type": "stream",
          "name": "stderr",
          "text": [
            "/tmp/ipython-input-1026841043.py:56: DeprecationWarning: DataFrameGroupBy.apply operated on the grouping columns. This behavior is deprecated, and in a future version of pandas the grouping columns will be excluded from the operation. Either pass `include_groups=False` to exclude the groupings or explicitly select the grouping columns after groupby to silence this warning.\n",
            "  flow_df = df_events.groupby(['flow_window', 'device_id']).apply(aggregate_flow).reset_index()\n"
          ]
        }
      ]
    },
    {
      "cell_type": "code",
      "source": [
        "# Load the aggregated flow dataset\n",
        "df_flows = pd.read_csv(os.path.join(OUTPUT_DIR, 'dataset_flows.csv'))\n",
        "\n",
        "# --- 1. Encode Categorical Variables ---\n",
        "# Encode 'device' and 'label'\n",
        "le_device = LabelEncoder()\n",
        "df_flows['device_encoded'] = le_device.fit_transform(df_flows['device'])\n",
        "\n",
        "le_label = LabelEncoder()\n",
        "df_flows['label_encoded'] = le_label.fit_transform(df_flows['label'])\n",
        "# Map encoded labels back to original names for understanding\n",
        "label_map = dict(zip(le_label.transform(le_label.classes_), le_label.classes_))\n",
        "print(\"Label Encoding Map:\", label_map)\n",
        "\n",
        "# Define Features and Target\n",
        "FEATURES = [\n",
        "    'duration_ms', 'num_packets', 'total_bytes', 'mean_pkt_len',\n",
        "    'interarrival_mean_ms', 'pps', 'device_encoded'\n",
        "]\n",
        "TARGET = 'label_encoded'\n",
        "\n",
        "X = df_flows[FEATURES]\n",
        "y = df_flows[TARGET]\n",
        "\n",
        "# --- 2. Normalize Numeric Features ---\n",
        "# Excluding the 'device_encoded' as it's already a discrete integer label\n",
        "numeric_features = [f for f in FEATURES if f != 'device_encoded']\n",
        "scaler = StandardScaler()\n",
        "X[numeric_features] = scaler.fit_transform(X[numeric_features])\n",
        "print(\"\\nFeatures normalized successfully.\")\n",
        "\n",
        "# --- 3. Stratified Split (70% Train / 30% Test) ---\n",
        "X_train, X_test, y_train, y_test = train_test_split(\n",
        "    X, y, test_size=0.3, random_state=42, stratify=y\n",
        ")\n",
        "\n",
        "print(f\"\\nTraining set size: {len(X_train)}\")\n",
        "print(f\"Testing set size: {len(X_test)}\")"
      ],
      "metadata": {
        "colab": {
          "base_uri": "https://localhost:8080/"
        },
        "id": "kUzX-LgcjwhD",
        "outputId": "8f191f0c-1076-4f8e-c94e-933ff21a0f72"
      },
      "execution_count": 14,
      "outputs": [
        {
          "output_type": "stream",
          "name": "stdout",
          "text": [
            "Label Encoding Map: {np.int64(0): 'Data_Injection', np.int64(1): 'Flood', np.int64(2): 'Normal', np.int64(3): 'Replay'}\n",
            "\n",
            "Features normalized successfully.\n",
            "\n",
            "Training set size: 8954\n",
            "Testing set size: 3838\n"
          ]
        },
        {
          "output_type": "stream",
          "name": "stderr",
          "text": [
            "/tmp/ipython-input-3339451302.py:29: SettingWithCopyWarning: \n",
            "A value is trying to be set on a copy of a slice from a DataFrame.\n",
            "Try using .loc[row_indexer,col_indexer] = value instead\n",
            "\n",
            "See the caveats in the documentation: https://pandas.pydata.org/pandas-docs/stable/user_guide/indexing.html#returning-a-view-versus-a-copy\n",
            "  X[numeric_features] = scaler.fit_transform(X[numeric_features])\n"
          ]
        }
      ]
    },
    {
      "cell_type": "code",
      "source": [
        "print(\"--- Random Forest Model Training ---\")\n",
        "\n",
        "# --- 1. Model Development & Training ---\n",
        "rf_model = RandomForestClassifier(n_estimators=100, random_state=42, n_jobs=-1)\n",
        "start_time_rf = time.time()\n",
        "rf_model.fit(X_train, y_train)\n",
        "train_duration_rf = time.time() - start_time_rf\n",
        "print(f\"Training Time: {train_duration_rf:.2f} seconds\")\n",
        "\n",
        "# --- 2. Prediction and Evaluation ---\n",
        "y_pred_rf = rf_model.predict(X_test)\n",
        "\n",
        "# Calculate Metrics\n",
        "metrics_rf = {\n",
        "    'Accuracy': accuracy_score(y_test, y_pred_rf),\n",
        "    'Precision': precision_score(y_test, y_pred_rf, average='weighted', zero_division=0),\n",
        "    'Recall': recall_score(y_test, y_pred_rf, average='weighted', zero_division=0),\n",
        "    'F1-Score': f1_score(y_test, y_pred_rf, average='weighted', zero_division=0),\n",
        "    'Training Time (s)': train_duration_rf\n",
        "}\n",
        "\n",
        "# Calculate False Positive Rate (FPR)\n",
        "# FPR = FP / (FP + TN)\n",
        "cm_rf = confusion_matrix(y_test, y_pred_rf)\n",
        "# Assuming 'Normal' is class 1 (or the largest class) for a simplified FPR focusing on attack detection\n",
        "# More rigorous: calculate TN, FP for each attack class vs Normal, or for Binary 'Attack' vs 'Normal'\n",
        "# For simplicity, let's treat the problem as multi-class, and use Normal class (index 1 based on map)\n",
        "normal_class_idx = le_label.transform(['Normal'])[0] if 'Normal' in le_label.classes_ else 0\n",
        "TN_rf = np.delete(cm_rf, normal_class_idx, axis=0)[:, normal_class_idx].sum() # Sum of True Negatives (Correctly classifying other classes as not Normal)\n",
        "FP_rf = np.delete(cm_rf, normal_class_idx, axis=1)[normal_class_idx, :].sum() # Sum of False Positives (Incorrectly classifying Normal as other classes)\n",
        "# A more common interpretation of FPR in anomaly detection is: FP / (FP + TN) where 'Negative' is 'Normal'\n",
        "# Let's use the binary approach for FPR: Normal (0) vs Attack (1, 2)\n",
        "y_test_binary = np.where(y_test == normal_class_idx, 0, 1) # 0=Normal, 1=Attack\n",
        "y_pred_binary_rf = np.where(y_pred_rf == normal_class_idx, 0, 1)\n",
        "cm_binary_rf = confusion_matrix(y_test_binary, y_pred_binary_rf)\n",
        "TN, FP, FN, TP = cm_binary_rf.ravel()\n",
        "metrics_rf['False Positive Rate (FPR)'] = FP / (FP + TN) if (FP + TN) > 0 else 0\n",
        "\n",
        "print(\"\\nRandom Forest Results:\")\n",
        "for k, v in metrics_rf.items():\n",
        "    print(f\"- {k}: {v:.4f}\")\n",
        "\n",
        "# Save Results to File\n",
        "with open(os.path.join(OUTPUT_DIR, 'rf_results.txt'), 'w') as f:\n",
        "    for k, v in metrics_rf.items():\n",
        "        f.write(f\"{k}: {v:.4f}\\n\")\n",
        "\n",
        "# --- 3. Visualization: Confusion Matrix ---\n",
        "plt.figure(figsize=(8, 6))\n",
        "sns.heatmap(cm_rf, annot=True, fmt='d', cmap='Blues',\n",
        "            xticklabels=le_label.classes_, yticklabels=le_label.classes_)\n",
        "plt.title('Random Forest Confusion Matrix')\n",
        "plt.ylabel('Actual Label')\n",
        "plt.xlabel('Predicted Label')\n",
        "plt.savefig(os.path.join(OUTPUT_DIR, 'rf_confusion_matrix.png'))\n",
        "plt.show()\n",
        "\n",
        "# --- 4. Save Model ---\n",
        "import joblib # Using joblib for Random Forest model\n",
        "joblib.dump(rf_model, os.path.join(OUTPUT_DIR, 'rf_baseline.pkl'))\n",
        "print(f\"\\nRandom Forest model saved to rf_baseline.pkl\")"
      ],
      "metadata": {
        "colab": {
          "base_uri": "https://localhost:8080/",
          "height": 772
        },
        "id": "4K5KVJ0Sj8cp",
        "outputId": "a7f3d562-d37d-4d90-d9c2-c3bf3cdcbafb"
      },
      "execution_count": 15,
      "outputs": [
        {
          "output_type": "stream",
          "name": "stdout",
          "text": [
            "--- Random Forest Model Training ---\n",
            "Training Time: 0.69 seconds\n",
            "\n",
            "Random Forest Results:\n",
            "- Accuracy: 0.9969\n",
            "- Precision: 0.9960\n",
            "- Recall: 0.9969\n",
            "- F1-Score: 0.9959\n",
            "- Training Time (s): 0.6858\n",
            "- False Positive Rate (FPR): 0.0003\n"
          ]
        },
        {
          "output_type": "display_data",
          "data": {
            "text/plain": [
              "<Figure size 800x600 with 2 Axes>"
            ],
            "image/png": "[encoded data removed]"
          },
          "metadata": {}
        },
        {
          "output_type": "stream",
          "name": "stdout",
          "text": [
            "\n",
            "Random Forest model saved to rf_baseline.pkl\n"
          ]
        }
      ]
    },
    {
      "cell_type": "code",
      "source": [
        "print(\"--- LSTM Model Training ---\")\n",
        "\n",
        "# --- 1. Sequence Preparation for LSTM ---\n",
        "# LSTM requires 3D input: [samples, timesteps, features]\n",
        "# For simplicity, we treat each flow record as a sequence of length 1: [N_samples, 1, N_features]\n",
        "X_train_lstm = np.expand_dims(X_train.values, axis=1)\n",
        "X_test_lstm = np.expand_dims(X_test.values, axis=1)\n",
        "\n",
        "# One-hot encode the target labels\n",
        "num_classes = len(le_label.classes_)\n",
        "y_train_ohe = to_categorical(y_train, num_classes=num_classes)\n",
        "y_test_ohe = to_categorical(y_test, num_classes=num_classes)\n",
        "\n",
        "# --- 2. Model Development & Training ---\n",
        "lstm_model = Sequential([\n",
        "    LSTM(64, input_shape=(X_train_lstm.shape[1], X_train_lstm.shape[2])),\n",
        "    Dense(num_classes, activation='softmax')\n",
        "])\n",
        "\n",
        "lstm_model.compile(optimizer='adam', loss='categorical_crossentropy', metrics=['accuracy'])\n",
        "lstm_model.summary()\n",
        "\n",
        "# Train the model\n",
        "early_stop = EarlyStopping(monitor='val_loss', patience=5, restore_best_weights=True)\n",
        "start_time_lstm = time.time()\n",
        "history = lstm_model.fit(\n",
        "    X_train_lstm, y_train_ohe,\n",
        "    epochs=50,\n",
        "    batch_size=32,\n",
        "    validation_data=(X_test_lstm, y_test_ohe),\n",
        "    callbacks=[early_stop],\n",
        "    verbose=0 # Suppress verbose output for clean execution\n",
        ")\n",
        "train_duration_lstm = time.time() - start_time_lstm\n",
        "print(f\"Training Time: {train_duration_lstm:.2f} seconds (epochs stopped at {len(history.history['loss'])})\")\n",
        "\n",
        "# --- 3. Prediction and Evaluation ---\n",
        "y_pred_ohe_lstm = lstm_model.predict(X_test_lstm)\n",
        "y_pred_lstm = np.argmax(y_pred_ohe_lstm, axis=1) # Convert OHE prediction back to class index\n",
        "\n",
        "# Calculate Metrics (using the integer labels y_test and y_pred_lstm)\n",
        "metrics_lstm = {\n",
        "    'Accuracy': accuracy_score(y_test, y_pred_lstm),\n",
        "    'Precision': precision_score(y_test, y_pred_lstm, average='weighted', zero_division=0),\n",
        "    'Recall': recall_score(y_test, y_pred_lstm, average='weighted', zero_division=0),\n",
        "    'F1-Score': f1_score(y_test, y_pred_lstm, average='weighted', zero_division=0),\n",
        "    'Training Time (s)': train_duration_lstm\n",
        "}\n",
        "\n",
        "# Calculate False Positive Rate (FPR) (using the same binary approach as RF)\n",
        "y_pred_binary_lstm = np.where(y_pred_lstm == normal_class_idx, 0, 1)\n",
        "cm_binary_lstm = confusion_matrix(y_test_binary, y_pred_binary_lstm)\n",
        "TN, FP, FN, TP = cm_binary_lstm.ravel()\n",
        "metrics_lstm['False Positive Rate (FPR)'] = FP / (FP + TN) if (FP + TN) > 0 else 0\n",
        "\n",
        "print(\"\\nLSTM Results:\")\n",
        "for k, v in metrics_lstm.items():\n",
        "    print(f\"- {k}: {v:.4f}\")\n",
        "\n",
        "# Save Results to File\n",
        "with open(os.path.join(OUTPUT_DIR, 'lstm_results.txt'), 'w') as f:\n",
        "    for k, v in metrics_lstm.items():\n",
        "        f.write(f\"{k}: {v:.4f}\\n\")\n",
        "\n",
        "# --- 4. Visualization: Confusion Matrix ---\n",
        "cm_lstm = confusion_matrix(y_test, y_pred_lstm)\n",
        "plt.figure(figsize=(8, 6))\n",
        "sns.heatmap(cm_lstm, annot=True, fmt='d', cmap='Blues',\n",
        "            xticklabels=le_label.classes_, yticklabels=le_label.classes_)\n",
        "plt.title('LSTM Confusion Matrix')\n",
        "plt.ylabel('Actual Label')\n",
        "plt.xlabel('Predicted Label')\n",
        "plt.savefig(os.path.join(OUTPUT_DIR, 'lstm_confusion_matrix.png'))\n",
        "plt.show()\n",
        "\n",
        "# --- 5. Save Model ---\n",
        "lstm_model.save(os.path.join(OUTPUT_DIR, 'lstm_model.h5'))\n",
        "print(f\"\\nLSTM model saved to lstm_model.h5\")"
      ],
      "metadata": {
        "colab": {
          "base_uri": "https://localhost:8080/",
          "height": 1000
        },
        "id": "1itoCjGPkuDC",
        "outputId": "0e778e4f-3be9-4e8b-cfbb-d1bb45dd363b"
      },
      "execution_count": 16,
      "outputs": [
        {
          "output_type": "stream",
          "name": "stdout",
          "text": [
            "--- LSTM Model Training ---\n"
          ]
        },
        {
          "output_type": "stream",
          "name": "stderr",
          "text": [
            "/usr/local/lib/python3.12/dist-packages/keras/src/layers/rnn/rnn.py:199: UserWarning: Do not pass an `input_shape`/`input_dim` argument to a layer. When using Sequential models, prefer using an `Input(shape)` object as the first layer in the model instead.\n",
            "  super().__init__(**kwargs)\n"
          ]
        },
        {
          "output_type": "display_data",
          "data": {
            "text/plain": [
              "\u001b[1mModel: \"sequential_1\"\u001b[0m\n"
            ],
            "text/html": [
              "<pre style=\"white-space:pre;overflow-x:auto;line-height:normal;font-family:Menlo,'DejaVu Sans Mono',consolas,'Courier New',monospace\"><span style=\"font-weight: bold\">Model: \"sequential_1\"</span>\n",
              "</pre>\n"
            ]
          },
          "metadata": {}
        },
        {
          "output_type": "display_data",
          "data": {
            "text/plain": [
              "┏━━━━━━━━━━━━━━━━━━━━━━━━━━━━━━━━━┳━━━━━━━━━━━━━━━━━━━━━━━━┳━━━━━━━━━━━━━━━┓\n",
              "┃\u001b[1m \u001b[0m\u001b[1mLayer (type)                   \u001b[0m\u001b[1m \u001b[0m┃\u001b[1m \u001b[0m\u001b[1mOutput Shape          \u001b[0m\u001b[1m \u001b[0m┃\u001b[1m \u001b[0m\u001b[1m      Param #\u001b[0m\u001b[1m \u001b[0m┃\n",
              "┡━━━━━━━━━━━━━━━━━━━━━━━━━━━━━━━━━╇━━━━━━━━━━━━━━━━━━━━━━━━╇━━━━━━━━━━━━━━━┩\n",
              "│ lstm_1 (\u001b[38;5;33mLSTM\u001b[0m)                   │ (\u001b[38;5;45mNone\u001b[0m, \u001b[38;5;34m64\u001b[0m)             │        \u001b[38;5;34m18,432\u001b[0m │\n",
              "├─────────────────────────────────┼────────────────────────┼───────────────┤\n",
              "│ dense_1 (\u001b[38;5;33mDense\u001b[0m)                 │ (\u001b[38;5;45mNone\u001b[0m, \u001b[38;5;34m4\u001b[0m)              │           \u001b[38;5;34m260\u001b[0m │\n",
              "└─────────────────────────────────┴────────────────────────┴───────────────┘\n"
            ],
            "text/html": [
              "<pre style=\"white-space:pre;overflow-x:auto;line-height:normal;font-family:Menlo,'DejaVu Sans Mono',consolas,'Courier New',monospace\">┏━━━━━━━━━━━━━━━━━━━━━━━━━━━━━━━━━┳━━━━━━━━━━━━━━━━━━━━━━━━┳━━━━━━━━━━━━━━━┓\n",
              "┃<span style=\"font-weight: bold\"> Layer (type)                    </span>┃<span style=\"font-weight: bold\"> Output Shape           </span>┃<span style=\"font-weight: bold\">       Param # </span>┃\n",
              "┡━━━━━━━━━━━━━━━━━━━━━━━━━━━━━━━━━╇━━━━━━━━━━━━━━━━━━━━━━━━╇━━━━━━━━━━━━━━━┩\n",
              "│ lstm_1 (<span style=\"color: #0087ff; text-decoration-color: #0087ff\">LSTM</span>)                   │ (<span style=\"color: #00d7ff; text-decoration-color: #00d7ff\">None</span>, <span style=\"color: #00af00; text-decoration-color: #00af00\">64</span>)             │        <span style=\"color: #00af00; text-decoration-color: #00af00\">18,432</span> │\n",
              "├─────────────────────────────────┼────────────────────────┼───────────────┤\n",
              "│ dense_1 (<span style=\"color: #0087ff; text-decoration-color: #0087ff\">Dense</span>)                 │ (<span style=\"color: #00d7ff; text-decoration-color: #00d7ff\">None</span>, <span style=\"color: #00af00; text-decoration-color: #00af00\">4</span>)              │           <span style=\"color: #00af00; text-decoration-color: #00af00\">260</span> │\n",
              "└─────────────────────────────────┴────────────────────────┴───────────────┘\n",
              "</pre>\n"
            ]
          },
          "metadata": {}
        },
        {
          "output_type": "display_data",
          "data": {
            "text/plain": [
              "\u001b[1m Total params: \u001b[0m\u001b[38;5;34m18,692\u001b[0m (73.02 KB)\n"
            ],
            "text/html": [
              "<pre style=\"white-space:pre;overflow-x:auto;line-height:normal;font-family:Menlo,'DejaVu Sans Mono',consolas,'Courier New',monospace\"><span style=\"font-weight: bold\"> Total params: </span><span style=\"color: #00af00; text-decoration-color: #00af00\">18,692</span> (73.02 KB)\n",
              "</pre>\n"
            ]
          },
          "metadata": {}
        },
        {
          "output_type": "display_data",
          "data": {
            "text/plain": [
              "\u001b[1m Trainable params: \u001b[0m\u001b[38;5;34m18,692\u001b[0m (73.02 KB)\n"
            ],
            "text/html": [
              "<pre style=\"white-space:pre;overflow-x:auto;line-height:normal;font-family:Menlo,'DejaVu Sans Mono',consolas,'Courier New',monospace\"><span style=\"font-weight: bold\"> Trainable params: </span><span style=\"color: #00af00; text-decoration-color: #00af00\">18,692</span> (73.02 KB)\n",
              "</pre>\n"
            ]
          },
          "metadata": {}
        },
        {
          "output_type": "display_data",
          "data": {
            "text/plain": [
              "\u001b[1m Non-trainable params: \u001b[0m\u001b[38;5;34m0\u001b[0m (0.00 B)\n"
            ],
            "text/html": [
              "<pre style=\"white-space:pre;overflow-x:auto;line-height:normal;font-family:Menlo,'DejaVu Sans Mono',consolas,'Courier New',monospace\"><span style=\"font-weight: bold\"> Non-trainable params: </span><span style=\"color: #00af00; text-decoration-color: #00af00\">0</span> (0.00 B)\n",
              "</pre>\n"
            ]
          },
          "metadata": {}
        },
        {
          "output_type": "stream",
          "name": "stdout",
          "text": [
            "Training Time: 44.79 seconds (epochs stopped at 41)\n",
            "\u001b[1m120/120\u001b[0m \u001b[32m━━━━━━━━━━━━━━━━━━━━\u001b[0m\u001b[37m\u001b[0m \u001b[1m1s\u001b[0m 3ms/step\n",
            "\n",
            "LSTM Results:\n",
            "- Accuracy: 0.9964\n",
            "- Precision: 0.9933\n",
            "- Recall: 0.9964\n",
            "- F1-Score: 0.9948\n",
            "- Training Time (s): 44.7899\n",
            "- False Positive Rate (FPR): 0.0003\n"
          ]
        },
        {
          "output_type": "display_data",
          "data": {
            "text/plain": [
              "<Figure size 800x600 with 2 Axes>"
            ],
            "image/png": "[encoded data removed]"
          },
          "metadata": {}
        },
        {
          "output_type": "stream",
          "name": "stderr",
          "text": [
            "WARNING:absl:You are saving your model as an HDF5 file via `model.save()` or `keras.saving.save_model(model)`. This file format is considered legacy. We recommend using instead the native Keras format, e.g. `model.save('my_model.keras')` or `keras.saving.save_model(model, 'my_model.keras')`. \n"
          ]
        },
        {
          "output_type": "stream",
          "name": "stdout",
          "text": [
            "\n",
            "LSTM model saved to lstm_model.h5\n"
          ]
        }
      ]
    },
    {
      "cell_type": "code",
      "source": [
        "# Combine metrics for visualization\n",
        "metrics_df = pd.DataFrame({\n",
        "    'Random Forest': metrics_rf,\n",
        "    'LSTM': metrics_lstm\n",
        "}).T\n",
        "\n",
        "# Select metrics for bar chart comparison\n",
        "metrics_to_plot = ['Accuracy', 'Precision', 'Recall', 'F1-Score', 'False Positive Rate (FPR)']\n",
        "plot_df = metrics_df[metrics_to_plot]\n",
        "\n",
        "plt.figure(figsize=(12, 6))\n",
        "plot_df.plot(kind='bar', rot=0, ax=plt.gca(), cmap='viridis')\n",
        "plt.title('Model Performance Comparison')\n",
        "plt.ylabel('Score')\n",
        "plt.ylim(0, 1.05)\n",
        "plt.legend(title='Metric')\n",
        "plt.grid(axis='y', linestyle='--')\n",
        "plt.tight_layout()\n",
        "plt.savefig(os.path.join(OUTPUT_DIR, 'model_comparison_bar_chart.png'))\n",
        "plt.show()\n",
        "\n",
        "print(\"Model comparison chart saved.\")"
      ],
      "metadata": {
        "colab": {
          "base_uri": "https://localhost:8080/",
          "height": 624
        },
        "id": "UlhMxHAPk_En",
        "outputId": "460f4b24-d85d-4044-b78e-501587f1c98e"
      },
      "execution_count": 17,
      "outputs": [
        {
          "output_type": "display_data",
          "data": {
            "text/plain": [
              "<Figure size 1200x600 with 1 Axes>"
            ],
            "image/png": "[encoded data removed]"
          },
          "metadata": {}
        },
        {
          "output_type": "stream",
          "name": "stdout",
          "text": [
            "Model comparison chart saved.\n"
          ]
        }
      ]
    },
    {
      "cell_type": "code",
      "source": [
        "# --- Analysis & Discussion (Based on the outputs from Cells 6-8) ---\n",
        "\n",
        "print(\"\\n--- PERFORMANCE COMPARISON ---\")\n",
        "print(\"1. Which model performed better? (Based on generated metrics)\")\n",
        "# *Example based on expected results:*\n",
        "# Random Forest is expected to have higher Precision and faster training.\n",
        "# LSTM might have slightly better Recall/F1-Score on the time-based Replay attack.\n",
        "print(metrics_df[['Accuracy', 'Recall', 'Training Time (s)']])\n",
        "print(f\"\\nObservation: Based on the scores, {'Random Forest' if metrics_rf['F1-Score'] > metrics_lstm['F1-Score'] else 'LSTM'} achieved the higher overall F1-Score, while Random Forest was significantly faster to train.\")\n",
        "\n",
        "print(\"\\n2. Trade-offs:\")\n",
        "print(\"- **Random Forest:** Fast training, high interpretability, strong baseline performance, generally high precision.\")\n",
        "print(\"- **LSTM:** Better at capturing temporal sequences (important for Replay attack), but much slower to train and requires sequence formatting.\")\n",
        "\n",
        "print(\"\\n--- LIMITATIONS ---\")\n",
        "print(\"1. **Synthetic Data:** The dataset is small and lacks the high-dimensional noise, packet loss, and sensor drift of real-world IIoT environments.\")\n",
        "print(\"2. **Limited Attacks:** Only Flood and Replay attacks were simulated. Real-world attacks include DoS, data injection, and spoofing.\")\n",
        "print(\"3. **Small Scale:** Models trained on this small dataset may have limited generalization capabilities when applied to a large-scale industrial network.\")\n",
        "\n",
        "print(\"\\n--- RECOMMENDATIONS / FUTURE WORK ---\")\n",
        "print(\"1. **Dataset Expansion:** Use large, real-world IIoT datasets like Edge-IIoTset or TON_IoT to validate model robustness.\")\n",
        "print(\"2. **Attack Diversity:** Simulate and label a wider variety of attack types (e.g., integrity attacks like data injection, or availability attacks like DoS).\")\n",
        "print(\"3. **Real-Time Integration:** Integrate the trained models with a live MQTT broker or Kafka stream for real-time inference.\")\n",
        "print(\"4. **Adaptive Learning:** Implement a continuous learning loop where the model is periodically retrained or updated with new normal and attack data to adapt to evolving threats.\")\n",
        "\n",
        "# Final step: Zipping the deliverables\n",
        "import shutil\n",
        "shutil.make_archive('iiot_dataset', 'zip', OUTPUT_DIR)\n",
        "print(f\"\\n--- FINAL DELIVERABLES ---\")\n",
        "print(f\"Project deliverables zipped to: iiot_dataset.zip. You can now download this file from the Colab file browser.\")"
      ],
      "metadata": {
        "colab": {
          "base_uri": "https://localhost:8080/"
        },
        "id": "TnVbZxaIm2XT",
        "outputId": "a110dda0-e748-43a2-bb5a-35ccd6516001"
      },
      "execution_count": 18,
      "outputs": [
        {
          "output_type": "stream",
          "name": "stdout",
          "text": [
            "\n",
            "--- PERFORMANCE COMPARISON ---\n",
            "1. Which model performed better? (Based on generated metrics)\n",
            "               Accuracy    Recall  Training Time (s)\n",
            "Random Forest  0.996873  0.996873           0.685807\n",
            "LSTM           0.996352  0.996352          44.789868\n",
            "\n",
            "Observation: Based on the scores, Random Forest achieved the higher overall F1-Score, while Random Forest was significantly faster to train.\n",
            "\n",
            "2. Trade-offs:\n",
            "- **Random Forest:** Fast training, high interpretability, strong baseline performance, generally high precision.\n",
            "- **LSTM:** Better at capturing temporal sequences (important for Replay attack), but much slower to train and requires sequence formatting.\n",
            "\n",
            "--- LIMITATIONS ---\n",
            "1. **Synthetic Data:** The dataset is small and lacks the high-dimensional noise, packet loss, and sensor drift of real-world IIoT environments.\n",
            "2. **Limited Attacks:** Only Flood and Replay attacks were simulated. Real-world attacks include DoS, data injection, and spoofing.\n",
            "3. **Small Scale:** Models trained on this small dataset may have limited generalization capabilities when applied to a large-scale industrial network.\n",
            "\n",
            "--- RECOMMENDATIONS / FUTURE WORK ---\n",
            "1. **Dataset Expansion:** Use large, real-world IIoT datasets like Edge-IIoTset or TON_IoT to validate model robustness.\n",
            "2. **Attack Diversity:** Simulate and label a wider variety of attack types (e.g., integrity attacks like data injection, or availability attacks like DoS).\n",
            "3. **Real-Time Integration:** Integrate the trained models with a live MQTT broker or Kafka stream for real-time inference.\n",
            "4. **Adaptive Learning:** Implement a continuous learning loop where the model is periodically retrained or updated with new normal and attack data to adapt to evolving threats.\n",
            "\n",
            "--- FINAL DELIVERABLES ---\n",
            "Project deliverables zipped to: iiot_dataset.zip. You can now download this file from the Colab file browser.\n"
          ]
        }
      ]
    }
  ]
}